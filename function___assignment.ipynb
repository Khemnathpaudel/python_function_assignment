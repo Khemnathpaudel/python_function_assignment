{
  "nbformat": 4,
  "nbformat_minor": 0,
  "metadata": {
    "colab": {
      "provenance": []
    },
    "kernelspec": {
      "name": "python3",
      "display_name": "Python 3"
    },
    "language_info": {
      "name": "python"
    }
  },
  "cells": [
    {
      "cell_type": "code",
      "execution_count": null,
      "metadata": {
        "id": "Uxyr1lZ61CEM"
      },
      "outputs": [],
      "source": [
        "#1. what is the difference between a function and a method in a python?"
      ]
    },
    {
      "cell_type": "code",
      "source": [
        "#ans: a funtion is a block of code that performs a task and can be called independently.\n",
        "# a method is a function that is associated with an object and can only be called on that object(typically defined within a class)"
      ],
      "metadata": {
        "id": "ctIbHifw3Fyn"
      },
      "execution_count": null,
      "outputs": []
    },
    {
      "cell_type": "code",
      "source": [
        "#2. Explain the concept of function arguements and parameters in python?\n"
      ],
      "metadata": {
        "id": "pB1TCHeo3F0p"
      },
      "execution_count": null,
      "outputs": []
    },
    {
      "cell_type": "code",
      "source": [
        "# ans: Parameters are variables listed in a functions's definition representing the data the function expects to receive.\n",
        "# Arguements are the actual values passed to the function when it is called.\n",
        "# Parameters act as placeholders, while arguements provide the specific data."
      ],
      "metadata": {
        "id": "vRkbqSL83F5o"
      },
      "execution_count": null,
      "outputs": []
    },
    {
      "cell_type": "code",
      "source": [
        "#example\n",
        "def greet(name):  # name is a parameter\n",
        "    print('print the name:',name)\n",
        "\n",
        "greet('khem')  # \"khem\" is an argument\n"
      ],
      "metadata": {
        "colab": {
          "base_uri": "https://localhost:8080/"
        },
        "id": "CZeVg59hF7Hk",
        "outputId": "75e45bbc-ea8f-47d1-c860-4f1fa95a23ec"
      },
      "execution_count": null,
      "outputs": [
        {
          "output_type": "stream",
          "name": "stdout",
          "text": [
            "print the name: khem\n"
          ]
        }
      ]
    },
    {
      "cell_type": "code",
      "source": [
        "#3.what are the different ways to define and call a function in python.?"
      ],
      "metadata": {
        "id": "W3huxeWNGWW2"
      },
      "execution_count": null,
      "outputs": []
    },
    {
      "cell_type": "code",
      "source": [
        "# Ans: in python there are sevaral ways to define and call a funtion"
      ],
      "metadata": {
        "id": "nwwZoFb3GXvy"
      },
      "execution_count": null,
      "outputs": []
    },
    {
      "cell_type": "code",
      "source": [
        "# simple function\n",
        "def greet():# defining a function\n",
        "  print('hello')\n",
        "greet() # function call"
      ],
      "metadata": {
        "id": "JNukEj3TGXxM"
      },
      "execution_count": null,
      "outputs": []
    },
    {
      "cell_type": "code",
      "source": [
        "#2.function with parameters\n",
        "def greet(name):\n",
        "  print(f'hello:{name}')\n",
        "greet('khemnath')# function call"
      ],
      "metadata": {
        "id": "IAQHzZRQGX1o"
      },
      "execution_count": null,
      "outputs": []
    },
    {
      "cell_type": "code",
      "source": [
        "#3.function with default parameters\n",
        "def greet(name='khemnath'):\n",
        "  print(f'hello:{name}')\n",
        "greet()         # use default parameters khemnath\n",
        "greet('shyam') # old value replace by shyam new value"
      ],
      "metadata": {
        "id": "kNu13Ub7GX4i"
      },
      "execution_count": null,
      "outputs": []
    },
    {
      "cell_type": "code",
      "source": [
        "#4.Lambda function\n",
        "greet=lambda name:print(f'hello:{name}')\n",
        "greet('khemnath')\n",
        "# and there are many other ways to do so.."
      ],
      "metadata": {
        "id": "KTX7_s24IdUB"
      },
      "execution_count": null,
      "outputs": []
    },
    {
      "cell_type": "code",
      "source": [
        "#4. what is the purpose of return statement in a python function?"
      ],
      "metadata": {
        "id": "9tkFh4gMI7WL"
      },
      "execution_count": null,
      "outputs": []
    },
    {
      "cell_type": "code",
      "source": [
        "# The return statement in a python function is used to send a value back to the caller ending the function's execution\n",
        "# it allows the function to output data that can be stored or used later.\n",
        "#example:\n",
        "def find_max(lis):\n",
        "  return max(lis)\n",
        "find_max([1,2,3,4,5])"
      ],
      "metadata": {
        "colab": {
          "base_uri": "https://localhost:8080/"
        },
        "id": "dp6jU6coI7Xu",
        "outputId": "f1d82fba-ab3c-4934-f396-3d125d1314c5"
      },
      "execution_count": null,
      "outputs": [
        {
          "output_type": "execute_result",
          "data": {
            "text/plain": [
              "5"
            ]
          },
          "metadata": {},
          "execution_count": 6
        }
      ]
    },
    {
      "cell_type": "code",
      "source": [
        "#5. what are iterators in python and how do they differ from iterables..?\n"
      ],
      "metadata": {
        "id": "uYB9aWZCKH8g"
      },
      "execution_count": null,
      "outputs": []
    },
    {
      "cell_type": "code",
      "source": [
        "# ans: An iterator in python is an object that allows you to traverse through data, one element at a time using next()\n",
        "# An iterable is a collection (like list or string) that can be looped over and can produce an iterator object using iter()\n",
        "#Iterables provide the data, while iterators perform the actual iteration."
      ],
      "metadata": {
        "id": "s1fy2ZarKH_X"
      },
      "execution_count": null,
      "outputs": []
    },
    {
      "cell_type": "code",
      "source": [
        "#6. Explain the concept of generators in Python and how they are defined?"
      ],
      "metadata": {
        "id": "mIwkZN0bI7ca"
      },
      "execution_count": null,
      "outputs": []
    },
    {
      "cell_type": "code",
      "source": [
        "# Generators in python are special functions that allow you to iterate over a sequence of values i.eup values are produced\n",
        "#one at a time only when it is needed. They are defined using yeild keyword which returns a value and pauses the function,resuming from where\n",
        "#it left off when called agaain.\n",
        "#Example\n",
        "def count_up(max):\n",
        "  n=1\n",
        "  while n<=max:\n",
        "    yield n\n",
        "    n+=1\n",
        "for num in count_up(5):\n",
        "  print(num)"
      ],
      "metadata": {
        "colab": {
          "base_uri": "https://localhost:8080/"
        },
        "id": "1BWxYltvF8E0",
        "outputId": "52721ef9-e807-4c80-b8fa-3549b8d53934"
      },
      "execution_count": 2,
      "outputs": [
        {
          "output_type": "stream",
          "name": "stdout",
          "text": [
            "1\n",
            "2\n",
            "3\n",
            "4\n",
            "5\n"
          ]
        }
      ]
    },
    {
      "cell_type": "code",
      "source": [
        "#7. What are the advantages of using generators over regular functions?"
      ],
      "metadata": {
        "id": "hmWDib1m4aD6"
      },
      "execution_count": null,
      "outputs": []
    },
    {
      "cell_type": "code",
      "source": [
        "# ans: Generators are memory-efficient as they yield values one at a time without storing the entire sequence.\n",
        "# They use lazy evaluation, producing items only when neede, which is ideal for large or infinite data steams.\n",
        "# Generators also simplify code for handling iterations and complex data flows.\n",
        "#example:\n",
        "def count_up_to(max):\n",
        "    n = 1\n",
        "    while n <= max:\n",
        "        yield n\n",
        "        n += 1\n",
        "\n",
        "for num in count_up_to(3):\n",
        "    print(num)\n"
      ],
      "metadata": {
        "colab": {
          "base_uri": "https://localhost:8080/"
        },
        "id": "egCgLq9wHqA_",
        "outputId": "97ce648e-c799-464a-927e-1ed2161088ea"
      },
      "execution_count": 3,
      "outputs": [
        {
          "output_type": "stream",
          "name": "stdout",
          "text": [
            "1\n",
            "2\n",
            "3\n"
          ]
        }
      ]
    },
    {
      "cell_type": "code",
      "source": [
        "#8. What is a lambda function in Python and when is it typically used?"
      ],
      "metadata": {
        "id": "t5wgKz-34aIn"
      },
      "execution_count": 4,
      "outputs": []
    },
    {
      "cell_type": "code",
      "source": [
        "# A lambda function in python is a small, anonymous function defined using the lambda keyword.\n",
        "#It's typically used for short functions functions that are not reused, often as arguemnts to higher-order functions like map filter reudce or shorted.\n",
        "#Example\n",
        "square=lambda x:x**2\n",
        "print(square(5))"
      ],
      "metadata": {
        "id": "3kzUnDpH4aK-",
        "colab": {
          "base_uri": "https://localhost:8080/"
        },
        "outputId": "31a6e180-e952-4ee8-8543-8f9a04989f8b"
      },
      "execution_count": 5,
      "outputs": [
        {
          "output_type": "stream",
          "name": "stdout",
          "text": [
            "25\n"
          ]
        }
      ]
    },
    {
      "cell_type": "code",
      "source": [
        "#9. Explain the purpose and usage of the `map()` function in Python?"
      ],
      "metadata": {
        "id": "y4iBhtu-4aPh"
      },
      "execution_count": 6,
      "outputs": []
    },
    {
      "cell_type": "code",
      "source": [
        "#The map() function in python applies a given function to each item in an iterable (list,tuple etc) and returns a map object with the results.\n",
        "#It's commonly used for transforming data elements.\n",
        "#example:\n",
        "num=[1,2,3,4,5,6]\n",
        "sq=map(lambda x:x**2,num)\n",
        "print(list(sq))"
      ],
      "metadata": {
        "id": "h8MMMwEP4aRa",
        "colab": {
          "base_uri": "https://localhost:8080/"
        },
        "outputId": "d739a989-0d53-49b0-9adb-2f9adda049d9"
      },
      "execution_count": 8,
      "outputs": [
        {
          "output_type": "stream",
          "name": "stdout",
          "text": [
            "[1, 4, 9, 16, 25, 36]\n"
          ]
        }
      ]
    },
    {
      "cell_type": "code",
      "source": [
        "#10. What is the difference between `map()`, `reduce()`, and `filter()` functions in Python?"
      ],
      "metadata": {
        "id": "givwzVzGLzcf"
      },
      "execution_count": null,
      "outputs": []
    },
    {
      "cell_type": "code",
      "source": [
        "# ans:The map(),reduce()and filter() functions in python serve different purposes:\n",
        "#map(): applies a given function to each item in an iterable and returns an iterator of the results.\n",
        "#example:\n",
        "map(lambda x: x*2,[1,2,3])\n",
        "#filter():applies a function that returns a boolean value to each item in an iterable and returns an iterator of items that return True\n",
        "#example:\n",
        "filter(lambda x:x%2==0,[1,2,3,4])\n",
        "#Reduce():applies a function to pairs of items from left to right, reducing the iterable to a single cumulative value.\n",
        "#It is part of the functools module\n",
        "import functools\n",
        "functools.reduce(lambda x,y: x+y,[1,2,3,4])\n"
      ],
      "metadata": {
        "colab": {
          "base_uri": "https://localhost:8080/"
        },
        "id": "46r1NNiiMQ8B",
        "outputId": "5833746a-9a01-4ec4-b7c0-698f1b96839f"
      },
      "execution_count": 10,
      "outputs": [
        {
          "output_type": "execute_result",
          "data": {
            "text/plain": [
              "10"
            ]
          },
          "metadata": {},
          "execution_count": 10
        }
      ]
    },
    {
      "cell_type": "code",
      "source": [
        "#11. Using pen & Paper write the internal mechanism for sum operation using  reduce function on this given.list=[47,11,42,13]\n"
      ],
      "metadata": {
        "id": "lyafXuJVMQ_j"
      },
      "execution_count": 11,
      "outputs": []
    },
    {
      "cell_type": "code",
      "source": [
        "from google.colab import files\n",
        "from IPython import display"
      ],
      "metadata": {
        "id": "-FPK5lonP9S8"
      },
      "execution_count": 15,
      "outputs": []
    },
    {
      "cell_type": "code",
      "source": [
        "uploaded=files.upload()"
      ],
      "metadata": {
        "colab": {
          "base_uri": "https://localhost:8080/",
          "height": 73
        },
        "id": "T-tE_sGdP9Y0",
        "outputId": "78e80c32-c500-458e-b40f-12f17a79dd59"
      },
      "execution_count": 16,
      "outputs": [
        {
          "output_type": "display_data",
          "data": {
            "text/plain": [
              "<IPython.core.display.HTML object>"
            ],
            "text/html": [
              "\n",
              "     <input type=\"file\" id=\"files-5c19754e-8f2e-451b-a2b9-1c8e4701cd77\" name=\"files[]\" multiple disabled\n",
              "        style=\"border:none\" />\n",
              "     <output id=\"result-5c19754e-8f2e-451b-a2b9-1c8e4701cd77\">\n",
              "      Upload widget is only available when the cell has been executed in the\n",
              "      current browser session. Please rerun this cell to enable.\n",
              "      </output>\n",
              "      <script>// Copyright 2017 Google LLC\n",
              "//\n",
              "// Licensed under the Apache License, Version 2.0 (the \"License\");\n",
              "// you may not use this file except in compliance with the License.\n",
              "// You may obtain a copy of the License at\n",
              "//\n",
              "//      http://www.apache.org/licenses/LICENSE-2.0\n",
              "//\n",
              "// Unless required by applicable law or agreed to in writing, software\n",
              "// distributed under the License is distributed on an \"AS IS\" BASIS,\n",
              "// WITHOUT WARRANTIES OR CONDITIONS OF ANY KIND, either express or implied.\n",
              "// See the License for the specific language governing permissions and\n",
              "// limitations under the License.\n",
              "\n",
              "/**\n",
              " * @fileoverview Helpers for google.colab Python module.\n",
              " */\n",
              "(function(scope) {\n",
              "function span(text, styleAttributes = {}) {\n",
              "  const element = document.createElement('span');\n",
              "  element.textContent = text;\n",
              "  for (const key of Object.keys(styleAttributes)) {\n",
              "    element.style[key] = styleAttributes[key];\n",
              "  }\n",
              "  return element;\n",
              "}\n",
              "\n",
              "// Max number of bytes which will be uploaded at a time.\n",
              "const MAX_PAYLOAD_SIZE = 100 * 1024;\n",
              "\n",
              "function _uploadFiles(inputId, outputId) {\n",
              "  const steps = uploadFilesStep(inputId, outputId);\n",
              "  const outputElement = document.getElementById(outputId);\n",
              "  // Cache steps on the outputElement to make it available for the next call\n",
              "  // to uploadFilesContinue from Python.\n",
              "  outputElement.steps = steps;\n",
              "\n",
              "  return _uploadFilesContinue(outputId);\n",
              "}\n",
              "\n",
              "// This is roughly an async generator (not supported in the browser yet),\n",
              "// where there are multiple asynchronous steps and the Python side is going\n",
              "// to poll for completion of each step.\n",
              "// This uses a Promise to block the python side on completion of each step,\n",
              "// then passes the result of the previous step as the input to the next step.\n",
              "function _uploadFilesContinue(outputId) {\n",
              "  const outputElement = document.getElementById(outputId);\n",
              "  const steps = outputElement.steps;\n",
              "\n",
              "  const next = steps.next(outputElement.lastPromiseValue);\n",
              "  return Promise.resolve(next.value.promise).then((value) => {\n",
              "    // Cache the last promise value to make it available to the next\n",
              "    // step of the generator.\n",
              "    outputElement.lastPromiseValue = value;\n",
              "    return next.value.response;\n",
              "  });\n",
              "}\n",
              "\n",
              "/**\n",
              " * Generator function which is called between each async step of the upload\n",
              " * process.\n",
              " * @param {string} inputId Element ID of the input file picker element.\n",
              " * @param {string} outputId Element ID of the output display.\n",
              " * @return {!Iterable<!Object>} Iterable of next steps.\n",
              " */\n",
              "function* uploadFilesStep(inputId, outputId) {\n",
              "  const inputElement = document.getElementById(inputId);\n",
              "  inputElement.disabled = false;\n",
              "\n",
              "  const outputElement = document.getElementById(outputId);\n",
              "  outputElement.innerHTML = '';\n",
              "\n",
              "  const pickedPromise = new Promise((resolve) => {\n",
              "    inputElement.addEventListener('change', (e) => {\n",
              "      resolve(e.target.files);\n",
              "    });\n",
              "  });\n",
              "\n",
              "  const cancel = document.createElement('button');\n",
              "  inputElement.parentElement.appendChild(cancel);\n",
              "  cancel.textContent = 'Cancel upload';\n",
              "  const cancelPromise = new Promise((resolve) => {\n",
              "    cancel.onclick = () => {\n",
              "      resolve(null);\n",
              "    };\n",
              "  });\n",
              "\n",
              "  // Wait for the user to pick the files.\n",
              "  const files = yield {\n",
              "    promise: Promise.race([pickedPromise, cancelPromise]),\n",
              "    response: {\n",
              "      action: 'starting',\n",
              "    }\n",
              "  };\n",
              "\n",
              "  cancel.remove();\n",
              "\n",
              "  // Disable the input element since further picks are not allowed.\n",
              "  inputElement.disabled = true;\n",
              "\n",
              "  if (!files) {\n",
              "    return {\n",
              "      response: {\n",
              "        action: 'complete',\n",
              "      }\n",
              "    };\n",
              "  }\n",
              "\n",
              "  for (const file of files) {\n",
              "    const li = document.createElement('li');\n",
              "    li.append(span(file.name, {fontWeight: 'bold'}));\n",
              "    li.append(span(\n",
              "        `(${file.type || 'n/a'}) - ${file.size} bytes, ` +\n",
              "        `last modified: ${\n",
              "            file.lastModifiedDate ? file.lastModifiedDate.toLocaleDateString() :\n",
              "                                    'n/a'} - `));\n",
              "    const percent = span('0% done');\n",
              "    li.appendChild(percent);\n",
              "\n",
              "    outputElement.appendChild(li);\n",
              "\n",
              "    const fileDataPromise = new Promise((resolve) => {\n",
              "      const reader = new FileReader();\n",
              "      reader.onload = (e) => {\n",
              "        resolve(e.target.result);\n",
              "      };\n",
              "      reader.readAsArrayBuffer(file);\n",
              "    });\n",
              "    // Wait for the data to be ready.\n",
              "    let fileData = yield {\n",
              "      promise: fileDataPromise,\n",
              "      response: {\n",
              "        action: 'continue',\n",
              "      }\n",
              "    };\n",
              "\n",
              "    // Use a chunked sending to avoid message size limits. See b/62115660.\n",
              "    let position = 0;\n",
              "    do {\n",
              "      const length = Math.min(fileData.byteLength - position, MAX_PAYLOAD_SIZE);\n",
              "      const chunk = new Uint8Array(fileData, position, length);\n",
              "      position += length;\n",
              "\n",
              "      const base64 = btoa(String.fromCharCode.apply(null, chunk));\n",
              "      yield {\n",
              "        response: {\n",
              "          action: 'append',\n",
              "          file: file.name,\n",
              "          data: base64,\n",
              "        },\n",
              "      };\n",
              "\n",
              "      let percentDone = fileData.byteLength === 0 ?\n",
              "          100 :\n",
              "          Math.round((position / fileData.byteLength) * 100);\n",
              "      percent.textContent = `${percentDone}% done`;\n",
              "\n",
              "    } while (position < fileData.byteLength);\n",
              "  }\n",
              "\n",
              "  // All done.\n",
              "  yield {\n",
              "    response: {\n",
              "      action: 'complete',\n",
              "    }\n",
              "  };\n",
              "}\n",
              "\n",
              "scope.google = scope.google || {};\n",
              "scope.google.colab = scope.google.colab || {};\n",
              "scope.google.colab._files = {\n",
              "  _uploadFiles,\n",
              "  _uploadFilesContinue,\n",
              "};\n",
              "})(self);\n",
              "</script> "
            ]
          },
          "metadata": {}
        },
        {
          "output_type": "stream",
          "name": "stdout",
          "text": [
            "Saving reduce_funtion_internal_mechanism.jpg to reduce_funtion_internal_mechanism.jpg\n"
          ]
        }
      ]
    },
    {
      "cell_type": "code",
      "source": [
        "display.Image('reduce_funtion_internal_mechanism.jpg')"
      ],
      "metadata": {
        "colab": {
          "base_uri": "https://localhost:8080/",
          "height": 1000
        },
        "id": "y_7aREhRK95U",
        "outputId": "765b31f0-105d-46c0-a609-c0dd5beab6af"
      },
      "execution_count": 17,
      "outputs": [
        {
          "output_type": "execute_result",
          "data": {
            "image/jpeg": "[encoded data removed]",
            "text/plain": [
              "<IPython.core.display.Image object>"
            ]
          },
          "metadata": {},
          "execution_count": 17
        }
      ]
    },
    {
      "cell_type": "code",
      "source": [
        "#PRACTICAL QUESTIONS"
      ],
      "metadata": {
        "id": "4v7GbG8yI7ij"
      },
      "execution_count": null,
      "outputs": []
    },
    {
      "cell_type": "code",
      "source": [
        "#1.write a python function that takes a list of numbers as input and returns the sum of all even numbers in the list"
      ],
      "metadata": {
        "id": "ofwTW-6eI7la"
      },
      "execution_count": null,
      "outputs": []
    },
    {
      "cell_type": "code",
      "source": [
        "def find_sum(lis):\n",
        "  list_new=[]\n",
        "  for i in lis:\n",
        "    if i%2==0:\n",
        "      list_new.append(i)\n",
        "  return sum(list_new),list_new\n",
        "print(find_sum([1,2,3,4,5,6,7,8,9,10]))\n"
      ],
      "metadata": {
        "colab": {
          "base_uri": "https://localhost:8080/"
        },
        "id": "ByTCTuc9Xt-v",
        "outputId": "d28119c4-d417-4b36-a143-3923313f8b5a"
      },
      "execution_count": null,
      "outputs": [
        {
          "output_type": "stream",
          "name": "stdout",
          "text": [
            "(30, [2, 4, 6, 8, 10])\n"
          ]
        }
      ]
    },
    {
      "cell_type": "code",
      "source": [
        "#2.create a python function that accepts a string and returns the reverse of that string?"
      ],
      "metadata": {
        "id": "gFEHIAgPXvEC"
      },
      "execution_count": null,
      "outputs": []
    },
    {
      "cell_type": "code",
      "source": [
        "def string_reverse(st):\n",
        "  a=''\n",
        "  for i in st:\n",
        "    a=i+a\n",
        "  return a\n",
        "string_reverse('my name is khan')"
      ],
      "metadata": {
        "colab": {
          "base_uri": "https://localhost:8080/",
          "height": 36
        },
        "id": "esh2_EBXXvFh",
        "outputId": "e818b5ec-b6a3-49bb-c82a-c95a429adfc8"
      },
      "execution_count": null,
      "outputs": [
        {
          "output_type": "execute_result",
          "data": {
            "text/plain": [
              "'nahk si eman ym'"
            ],
            "application/vnd.google.colaboratory.intrinsic+json": {
              "type": "string"
            }
          },
          "metadata": {},
          "execution_count": 8
        }
      ]
    },
    {
      "cell_type": "code",
      "source": [
        "#3.Implement a Python function that takes a list of integers and returns a new list containing the squares of each number..?"
      ],
      "metadata": {
        "id": "BP2Jm8_oZDPX"
      },
      "execution_count": null,
      "outputs": []
    },
    {
      "cell_type": "code",
      "source": [
        "def find_square(lis):\n",
        "  new_lis=[]\n",
        "  for i in lis:\n",
        "    new_lis.append(i**2)\n",
        "  return f'the lis is:{lis},the new list is :{new_lis}'\n",
        "find_square([1,2,3,4,5,6,7,8,9])\n",
        "\n"
      ],
      "metadata": {
        "colab": {
          "base_uri": "https://localhost:8080/",
          "height": 36
        },
        "id": "k-RxyaLIZDSG",
        "outputId": "83227c7e-6f3e-4516-e87e-4d678f6b0a65"
      },
      "execution_count": null,
      "outputs": [
        {
          "output_type": "execute_result",
          "data": {
            "text/plain": [
              "'the lis is:[1, 2, 3, 4, 5, 6, 7, 8, 9],the new list is :[1, 4, 9, 16, 25, 36, 49, 64, 81]'"
            ],
            "application/vnd.google.colaboratory.intrinsic+json": {
              "type": "string"
            }
          },
          "metadata": {},
          "execution_count": 11
        }
      ]
    },
    {
      "cell_type": "code",
      "source": [
        "#4. Write a Python function that checks if a given number is prime or not from 1 to 200."
      ],
      "metadata": {
        "id": "tU1PKdiFZDWh"
      },
      "execution_count": null,
      "outputs": []
    },
    {
      "cell_type": "code",
      "source": [
        "def find_prime(num):\n",
        "    if num <= 1:\n",
        "        return False\n",
        "    for i in range(2, int(num ** 0.5) + 1):\n",
        "        if num % i == 0:\n",
        "            return False\n",
        "    return True\n",
        "\n",
        "x = []\n",
        "for i in range(1, 201):\n",
        "    if find_prime(i):\n",
        "        x.append(i)\n",
        "\n",
        "print(x)\n",
        "print(len(x))\n"
      ],
      "metadata": {
        "colab": {
          "base_uri": "https://localhost:8080/"
        },
        "id": "4wPs7x0i2s9E",
        "outputId": "fc06c994-7cf2-4b36-a779-500733f1c13d"
      },
      "execution_count": null,
      "outputs": [
        {
          "output_type": "stream",
          "name": "stdout",
          "text": [
            "[2, 3, 5, 7, 11, 13, 17, 19, 23, 29, 31, 37, 41, 43, 47, 53, 59, 61, 67, 71, 73, 79, 83, 89, 97, 101, 103, 107, 109, 113, 127, 131, 137, 139, 149, 151, 157, 163, 167, 173, 179, 181, 191, 193, 197, 199]\n",
            "46\n"
          ]
        }
      ]
    },
    {
      "cell_type": "code",
      "source": [
        "#5. Create an iterator class in Python that generates the Fibonacci sequence up to a specified number of terms\n"
      ],
      "metadata": {
        "id": "QA2pkAERiz7b"
      },
      "execution_count": null,
      "outputs": []
    },
    {
      "cell_type": "code",
      "source": [
        "def find_fib_series(n):\n",
        "  fib_series=[]\n",
        "  a,b=0,1\n",
        "  for i in range(1,n+1):\n",
        "    fib_series.append(a)\n",
        "    a,b=b,a+b\n",
        "  return fib_series\n",
        "find_fib_series(10)\n"
      ],
      "metadata": {
        "colab": {
          "base_uri": "https://localhost:8080/"
        },
        "id": "rlOA2OdRvptt",
        "outputId": "80dc9091-a4f3-4b11-b6a3-a41e0bc93b52"
      },
      "execution_count": null,
      "outputs": [
        {
          "output_type": "execute_result",
          "data": {
            "text/plain": [
              "[0, 1, 1, 2, 3, 5, 8, 13, 21, 34]"
            ]
          },
          "metadata": {},
          "execution_count": 28
        }
      ]
    },
    {
      "cell_type": "code",
      "source": [
        "class fibonacci:\n",
        "  def __init__(self,n):\n",
        "    self.n=n\n",
        "    self.a,self.b=0,1\n",
        "    self.count=0\n",
        "  def __iter__(self):\n",
        "    return self\n",
        "  def __next__(self):\n",
        "    if self.count<self.n:\n",
        "      fib=self.a\n",
        "      self.a,self.b=self.b,self.a+self.b\n",
        "      self.count+=1\n",
        "      return fib\n",
        "    else:\n",
        "      raise StopIteration\n",
        "\n",
        "obj=fibonacci(10)\n",
        "for i in obj:\n",
        "  print(i)"
      ],
      "metadata": {
        "colab": {
          "base_uri": "https://localhost:8080/"
        },
        "id": "urxzgSMEvpvf",
        "outputId": "a82e2751-9377-45cc-a8c0-4ff7d53e4fe7"
      },
      "execution_count": null,
      "outputs": [
        {
          "output_type": "stream",
          "name": "stdout",
          "text": [
            "0\n",
            "1\n",
            "1\n",
            "2\n",
            "3\n",
            "5\n",
            "8\n",
            "13\n",
            "21\n",
            "34\n"
          ]
        }
      ]
    },
    {
      "cell_type": "code",
      "source": [
        "#6. Write a generator function in Python that yields the powers of 2 up to a given exponent."
      ],
      "metadata": {
        "id": "kz20bE7diz9l"
      },
      "execution_count": null,
      "outputs": []
    },
    {
      "cell_type": "code",
      "source": [
        "def powerof_two(number):\n",
        "  exponent=0\n",
        "  while exponent<=number:\n",
        "    yield 2**exponent\n",
        "    exponent+=1\n",
        "number=int(input('enter a number'))\n",
        "x=[]\n",
        "for i in powerof_two(number):\n",
        "  x.append(i)\n",
        "print(x)\n"
      ],
      "metadata": {
        "colab": {
          "base_uri": "https://localhost:8080/"
        },
        "id": "g_AgdByai0Cw",
        "outputId": "b67f5804-ec89-48dd-a902-e74beaa58e8f"
      },
      "execution_count": null,
      "outputs": [
        {
          "output_type": "stream",
          "name": "stdout",
          "text": [
            "enter a number5\n",
            "[1, 2, 4, 8, 16, 32]\n"
          ]
        }
      ]
    },
    {
      "cell_type": "code",
      "source": [
        "#7. Implement a generator function that reads a file line by line and yields each line as a string."
      ],
      "metadata": {
        "id": "AdUnDI4Ei0Ez"
      },
      "execution_count": null,
      "outputs": []
    },
    {
      "cell_type": "code",
      "source": [
        "def read_file(file_path):\n",
        "  with open(file_path,'r') as file:\n",
        "    for line in file:\n",
        "      yield line.strip()\n",
        "file_path='/content/titanic_dataset_csv.csv'\n",
        "for line in read_file(file_path):\n",
        "  print(line)"
      ],
      "metadata": {
        "colab": {
          "base_uri": "https://localhost:8080/"
        },
        "id": "7Ts-ZYpDi0JQ",
        "outputId": "df7e0446-d6a1-4e0c-d435-f8bc883bc5b8"
      },
      "execution_count": null,
      "outputs": [
        {
          "output_type": "stream",
          "name": "stdout",
          "text": [
            ",survived,pclass,sex,age,sibsp,parch,fare,embarked,class,who,adult_male,deck,embark_town,alive,alone\n",
            "0,0,3,male,22.0,1,0,7.25,S,Third,man,True,,Southampton,no,False\n",
            "1,1,1,female,38.0,1,0,71.2833,C,First,woman,False,C,Cherbourg,yes,False\n",
            "2,1,3,female,26.0,0,0,7.925,S,Third,woman,False,,Southampton,yes,True\n",
            "3,1,1,female,35.0,1,0,53.1,S,First,woman,False,C,Southampton,yes,False\n",
            "4,0,3,male,35.0,0,0,8.05,S,Third,man,True,,Southampton,no,True\n",
            "5,0,3,male,,0,0,8.4583,Q,Third,man,True,,Queenstown,no,True\n",
            "6,0,1,male,54.0,0,0,51.8625,S,First,man,True,E,Southampton,no,True\n",
            "7,0,3,male,2.0,3,1,21.075,S,Third,child,False,,Southampton,no,False\n",
            "8,1,3,female,27.0,0,2,11.1333,S,Third,woman,False,,Southampton,yes,False\n",
            "9,1,2,female,14.0,1,0,30.0708,C,Second,child,False,,Cherbourg,yes,False\n",
            "10,1,3,female,4.0,1,1,16.7,S,Third,child,False,G,Southampton,yes,False\n",
            "11,1,1,female,58.0,0,0,26.55,S,First,woman,False,C,Southampton,yes,True\n",
            "12,0,3,male,20.0,0,0,8.05,S,Third,man,True,,Southampton,no,True\n",
            "13,0,3,male,39.0,1,5,31.275,S,Third,man,True,,Southampton,no,False\n",
            "14,0,3,female,14.0,0,0,7.8542,S,Third,child,False,,Southampton,no,True\n",
            "15,1,2,female,55.0,0,0,16.0,S,Second,woman,False,,Southampton,yes,True\n",
            "16,0,3,male,2.0,4,1,29.125,Q,Third,child,False,,Queenstown,no,False\n",
            "17,1,2,male,,0,0,13.0,S,Second,man,True,,Southampton,yes,True\n",
            "18,0,3,female,31.0,1,0,18.0,S,Third,woman,False,,Southampton,no,False\n",
            "19,1,3,female,,0,0,7.225,C,Third,woman,False,,Cherbourg,yes,True\n",
            "20,0,2,male,35.0,0,0,26.0,S,Second,man,True,,Southampton,no,True\n",
            "21,1,2,male,34.0,0,0,13.0,S,Second,man,True,D,Southampton,yes,True\n",
            "22,1,3,female,15.0,0,0,8.0292,Q,Third,child,False,,Queenstown,yes,True\n",
            "23,1,1,male,28.0,0,0,35.5,S,First,man,True,A,Southampton,yes,True\n",
            "24,0,3,female,8.0,3,1,21.075,S,Third,child,False,,Southampton,no,False\n",
            "25,1,3,female,38.0,1,5,31.3875,S,Third,woman,False,,Southampton,yes,False\n",
            "26,0,3,male,,0,0,7.225,C,Third,man,True,,Cherbourg,no,True\n",
            "27,0,1,male,19.0,3,2,263.0,S,First,man,True,C,Southampton,no,False\n",
            "28,1,3,female,,0,0,7.8792,Q,Third,woman,False,,Queenstown,yes,True\n",
            "29,0,3,male,,0,0,7.8958,S,Third,man,True,,Southampton,no,True\n",
            "30,0,1,male,40.0,0,0,27.7208,C,First,man,True,,Cherbourg,no,True\n",
            "31,1,1,female,,1,0,146.5208,C,First,woman,False,B,Cherbourg,yes,False\n",
            "32,1,3,female,,0,0,7.75,Q,Third,woman,False,,Queenstown,yes,True\n",
            "33,0,2,male,66.0,0,0,10.5,S,Second,man,True,,Southampton,no,True\n",
            "34,0,1,male,28.0,1,0,82.1708,C,First,man,True,,Cherbourg,no,False\n",
            "35,0,1,male,42.0,1,0,52.0,S,First,man,True,,Southampton,no,False\n",
            "36,1,3,male,,0,0,7.2292,C,Third,man,True,,Cherbourg,yes,True\n",
            "37,0,3,male,21.0,0,0,8.05,S,Third,man,True,,Southampton,no,True\n",
            "38,0,3,female,18.0,2,0,18.0,S,Third,woman,False,,Southampton,no,False\n",
            "39,1,3,female,14.0,1,0,11.2417,C,Third,child,False,,Cherbourg,yes,False\n",
            "40,0,3,female,40.0,1,0,9.475,S,Third,woman,False,,Southampton,no,False\n",
            "41,0,2,female,27.0,1,0,21.0,S,Second,woman,False,,Southampton,no,False\n",
            "42,0,3,male,,0,0,7.8958,C,Third,man,True,,Cherbourg,no,True\n",
            "43,1,2,female,3.0,1,2,41.5792,C,Second,child,False,,Cherbourg,yes,False\n",
            "44,1,3,female,19.0,0,0,7.8792,Q,Third,woman,False,,Queenstown,yes,True\n",
            "45,0,3,male,,0,0,8.05,S,Third,man,True,,Southampton,no,True\n",
            "46,0,3,male,,1,0,15.5,Q,Third,man,True,,Queenstown,no,False\n",
            "47,1,3,female,,0,0,7.75,Q,Third,woman,False,,Queenstown,yes,True\n",
            "48,0,3,male,,2,0,21.6792,C,Third,man,True,,Cherbourg,no,False\n",
            "49,0,3,female,18.0,1,0,17.8,S,Third,woman,False,,Southampton,no,False\n",
            "50,0,3,male,7.0,4,1,39.6875,S,Third,child,False,,Southampton,no,False\n",
            "51,0,3,male,21.0,0,0,7.8,S,Third,man,True,,Southampton,no,True\n",
            "52,1,1,female,49.0,1,0,76.7292,C,First,woman,False,D,Cherbourg,yes,False\n",
            "53,1,2,female,29.0,1,0,26.0,S,Second,woman,False,,Southampton,yes,False\n",
            "54,0,1,male,65.0,0,1,61.9792,C,First,man,True,B,Cherbourg,no,False\n",
            "55,1,1,male,,0,0,35.5,S,First,man,True,C,Southampton,yes,True\n",
            "56,1,2,female,21.0,0,0,10.5,S,Second,woman,False,,Southampton,yes,True\n",
            "57,0,3,male,28.5,0,0,7.2292,C,Third,man,True,,Cherbourg,no,True\n",
            "58,1,2,female,5.0,1,2,27.75,S,Second,child,False,,Southampton,yes,False\n",
            "59,0,3,male,11.0,5,2,46.9,S,Third,child,False,,Southampton,no,False\n",
            "60,0,3,male,22.0,0,0,7.2292,C,Third,man,True,,Cherbourg,no,True\n",
            "61,1,1,female,38.0,0,0,80.0,,First,woman,False,B,,yes,True\n",
            "62,0,1,male,45.0,1,0,83.475,S,First,man,True,C,Southampton,no,False\n",
            "63,0,3,male,4.0,3,2,27.9,S,Third,child,False,,Southampton,no,False\n",
            "64,0,1,male,,0,0,27.7208,C,First,man,True,,Cherbourg,no,True\n",
            "65,1,3,male,,1,1,15.2458,C,Third,man,True,,Cherbourg,yes,False\n",
            "66,1,2,female,29.0,0,0,10.5,S,Second,woman,False,F,Southampton,yes,True\n",
            "67,0,3,male,19.0,0,0,8.1583,S,Third,man,True,,Southampton,no,True\n",
            "68,1,3,female,17.0,4,2,7.925,S,Third,woman,False,,Southampton,yes,False\n",
            "69,0,3,male,26.0,2,0,8.6625,S,Third,man,True,,Southampton,no,False\n",
            "70,0,2,male,32.0,0,0,10.5,S,Second,man,True,,Southampton,no,True\n",
            "71,0,3,female,16.0,5,2,46.9,S,Third,woman,False,,Southampton,no,False\n",
            "72,0,2,male,21.0,0,0,73.5,S,Second,man,True,,Southampton,no,True\n",
            "73,0,3,male,26.0,1,0,14.4542,C,Third,man,True,,Cherbourg,no,False\n",
            "74,1,3,male,32.0,0,0,56.4958,S,Third,man,True,,Southampton,yes,True\n",
            "75,0,3,male,25.0,0,0,7.65,S,Third,man,True,F,Southampton,no,True\n",
            "76,0,3,male,,0,0,7.8958,S,Third,man,True,,Southampton,no,True\n",
            "77,0,3,male,,0,0,8.05,S,Third,man,True,,Southampton,no,True\n",
            "78,1,2,male,0.83,0,2,29.0,S,Second,child,False,,Southampton,yes,False\n",
            "79,1,3,female,30.0,0,0,12.475,S,Third,woman,False,,Southampton,yes,True\n",
            "80,0,3,male,22.0,0,0,9.0,S,Third,man,True,,Southampton,no,True\n",
            "81,1,3,male,29.0,0,0,9.5,S,Third,man,True,,Southampton,yes,True\n",
            "82,1,3,female,,0,0,7.7875,Q,Third,woman,False,,Queenstown,yes,True\n",
            "83,0,1,male,28.0,0,0,47.1,S,First,man,True,,Southampton,no,True\n",
            "84,1,2,female,17.0,0,0,10.5,S,Second,woman,False,,Southampton,yes,True\n",
            "85,1,3,female,33.0,3,0,15.85,S,Third,woman,False,,Southampton,yes,False\n",
            "86,0,3,male,16.0,1,3,34.375,S,Third,man,True,,Southampton,no,False\n",
            "87,0,3,male,,0,0,8.05,S,Third,man,True,,Southampton,no,True\n",
            "88,1,1,female,23.0,3,2,263.0,S,First,woman,False,C,Southampton,yes,False\n",
            "89,0,3,male,24.0,0,0,8.05,S,Third,man,True,,Southampton,no,True\n",
            "90,0,3,male,29.0,0,0,8.05,S,Third,man,True,,Southampton,no,True\n",
            "91,0,3,male,20.0,0,0,7.8542,S,Third,man,True,,Southampton,no,True\n",
            "92,0,1,male,46.0,1,0,61.175,S,First,man,True,E,Southampton,no,False\n",
            "93,0,3,male,26.0,1,2,20.575,S,Third,man,True,,Southampton,no,False\n",
            "94,0,3,male,59.0,0,0,7.25,S,Third,man,True,,Southampton,no,True\n",
            "95,0,3,male,,0,0,8.05,S,Third,man,True,,Southampton,no,True\n",
            "96,0,1,male,71.0,0,0,34.6542,C,First,man,True,A,Cherbourg,no,True\n",
            "97,1,1,male,23.0,0,1,63.3583,C,First,man,True,D,Cherbourg,yes,False\n",
            "98,1,2,female,34.0,0,1,23.0,S,Second,woman,False,,Southampton,yes,False\n",
            "99,0,2,male,34.0,1,0,26.0,S,Second,man,True,,Southampton,no,False\n",
            "100,0,3,female,28.0,0,0,7.8958,S,Third,woman,False,,Southampton,no,True\n",
            "101,0,3,male,,0,0,7.8958,S,Third,man,True,,Southampton,no,True\n",
            "102,0,1,male,21.0,0,1,77.2875,S,First,man,True,D,Southampton,no,False\n",
            "103,0,3,male,33.0,0,0,8.6542,S,Third,man,True,,Southampton,no,True\n",
            "104,0,3,male,37.0,2,0,7.925,S,Third,man,True,,Southampton,no,False\n",
            "105,0,3,male,28.0,0,0,7.8958,S,Third,man,True,,Southampton,no,True\n",
            "106,1,3,female,21.0,0,0,7.65,S,Third,woman,False,,Southampton,yes,True\n",
            "107,1,3,male,,0,0,7.775,S,Third,man,True,,Southampton,yes,True\n",
            "108,0,3,male,38.0,0,0,7.8958,S,Third,man,True,,Southampton,no,True\n",
            "109,1,3,female,,1,0,24.15,Q,Third,woman,False,,Queenstown,yes,False\n",
            "110,0,1,male,47.0,0,0,52.0,S,First,man,True,C,Southampton,no,True\n",
            "111,0,3,female,14.5,1,0,14.4542,C,Third,child,False,,Cherbourg,no,False\n",
            "112,0,3,male,22.0,0,0,8.05,S,Third,man,True,,Southampton,no,True\n",
            "113,0,3,female,20.0,1,0,9.825,S,Third,woman,False,,Southampton,no,False\n",
            "114,0,3,female,17.0,0,0,14.4583,C,Third,woman,False,,Cherbourg,no,True\n",
            "115,0,3,male,21.0,0,0,7.925,S,Third,man,True,,Southampton,no,True\n",
            "116,0,3,male,70.5,0,0,7.75,Q,Third,man,True,,Queenstown,no,True\n",
            "117,0,2,male,29.0,1,0,21.0,S,Second,man,True,,Southampton,no,False\n",
            "118,0,1,male,24.0,0,1,247.5208,C,First,man,True,B,Cherbourg,no,False\n",
            "119,0,3,female,2.0,4,2,31.275,S,Third,child,False,,Southampton,no,False\n",
            "120,0,2,male,21.0,2,0,73.5,S,Second,man,True,,Southampton,no,False\n",
            "121,0,3,male,,0,0,8.05,S,Third,man,True,,Southampton,no,True\n",
            "122,0,2,male,32.5,1,0,30.0708,C,Second,man,True,,Cherbourg,no,False\n",
            "123,1,2,female,32.5,0,0,13.0,S,Second,woman,False,E,Southampton,yes,True\n",
            "124,0,1,male,54.0,0,1,77.2875,S,First,man,True,D,Southampton,no,False\n",
            "125,1,3,male,12.0,1,0,11.2417,C,Third,child,False,,Cherbourg,yes,False\n",
            "126,0,3,male,,0,0,7.75,Q,Third,man,True,,Queenstown,no,True\n",
            "127,1,3,male,24.0,0,0,7.1417,S,Third,man,True,,Southampton,yes,True\n",
            "128,1,3,female,,1,1,22.3583,C,Third,woman,False,F,Cherbourg,yes,False\n",
            "129,0,3,male,45.0,0,0,6.975,S,Third,man,True,,Southampton,no,True\n",
            "130,0,3,male,33.0,0,0,7.8958,C,Third,man,True,,Cherbourg,no,True\n",
            "131,0,3,male,20.0,0,0,7.05,S,Third,man,True,,Southampton,no,True\n",
            "132,0,3,female,47.0,1,0,14.5,S,Third,woman,False,,Southampton,no,False\n",
            "133,1,2,female,29.0,1,0,26.0,S,Second,woman,False,,Southampton,yes,False\n",
            "134,0,2,male,25.0,0,0,13.0,S,Second,man,True,,Southampton,no,True\n",
            "135,0,2,male,23.0,0,0,15.0458,C,Second,man,True,,Cherbourg,no,True\n",
            "136,1,1,female,19.0,0,2,26.2833,S,First,woman,False,D,Southampton,yes,False\n",
            "137,0,1,male,37.0,1,0,53.1,S,First,man,True,C,Southampton,no,False\n",
            "138,0,3,male,16.0,0,0,9.2167,S,Third,man,True,,Southampton,no,True\n",
            "139,0,1,male,24.0,0,0,79.2,C,First,man,True,B,Cherbourg,no,True\n",
            "140,0,3,female,,0,2,15.2458,C,Third,woman,False,,Cherbourg,no,False\n",
            "141,1,3,female,22.0,0,0,7.75,S,Third,woman,False,,Southampton,yes,True\n",
            "142,1,3,female,24.0,1,0,15.85,S,Third,woman,False,,Southampton,yes,False\n",
            "143,0,3,male,19.0,0,0,6.75,Q,Third,man,True,,Queenstown,no,True\n",
            "144,0,2,male,18.0,0,0,11.5,S,Second,man,True,,Southampton,no,True\n",
            "145,0,2,male,19.0,1,1,36.75,S,Second,man,True,,Southampton,no,False\n",
            "146,1,3,male,27.0,0,0,7.7958,S,Third,man,True,,Southampton,yes,True\n",
            "147,0,3,female,9.0,2,2,34.375,S,Third,child,False,,Southampton,no,False\n",
            "148,0,2,male,36.5,0,2,26.0,S,Second,man,True,F,Southampton,no,False\n",
            "149,0,2,male,42.0,0,0,13.0,S,Second,man,True,,Southampton,no,True\n",
            "150,0,2,male,51.0,0,0,12.525,S,Second,man,True,,Southampton,no,True\n",
            "151,1,1,female,22.0,1,0,66.6,S,First,woman,False,C,Southampton,yes,False\n",
            "152,0,3,male,55.5,0,0,8.05,S,Third,man,True,,Southampton,no,True\n",
            "153,0,3,male,40.5,0,2,14.5,S,Third,man,True,,Southampton,no,False\n",
            "154,0,3,male,,0,0,7.3125,S,Third,man,True,,Southampton,no,True\n",
            "155,0,1,male,51.0,0,1,61.3792,C,First,man,True,,Cherbourg,no,False\n",
            "156,1,3,female,16.0,0,0,7.7333,Q,Third,woman,False,,Queenstown,yes,True\n",
            "157,0,3,male,30.0,0,0,8.05,S,Third,man,True,,Southampton,no,True\n",
            "158,0,3,male,,0,0,8.6625,S,Third,man,True,,Southampton,no,True\n",
            "159,0,3,male,,8,2,69.55,S,Third,man,True,,Southampton,no,False\n",
            "160,0,3,male,44.0,0,1,16.1,S,Third,man,True,,Southampton,no,False\n",
            "161,1,2,female,40.0,0,0,15.75,S,Second,woman,False,,Southampton,yes,True\n",
            "162,0,3,male,26.0,0,0,7.775,S,Third,man,True,,Southampton,no,True\n",
            "163,0,3,male,17.0,0,0,8.6625,S,Third,man,True,,Southampton,no,True\n",
            "164,0,3,male,1.0,4,1,39.6875,S,Third,child,False,,Southampton,no,False\n",
            "165,1,3,male,9.0,0,2,20.525,S,Third,child,False,,Southampton,yes,False\n",
            "166,1,1,female,,0,1,55.0,S,First,woman,False,E,Southampton,yes,False\n",
            "167,0,3,female,45.0,1,4,27.9,S,Third,woman,False,,Southampton,no,False\n",
            "168,0,1,male,,0,0,25.925,S,First,man,True,,Southampton,no,True\n",
            "169,0,3,male,28.0,0,0,56.4958,S,Third,man,True,,Southampton,no,True\n",
            "170,0,1,male,61.0,0,0,33.5,S,First,man,True,B,Southampton,no,True\n",
            "171,0,3,male,4.0,4,1,29.125,Q,Third,child,False,,Queenstown,no,False\n",
            "172,1,3,female,1.0,1,1,11.1333,S,Third,child,False,,Southampton,yes,False\n",
            "173,0,3,male,21.0,0,0,7.925,S,Third,man,True,,Southampton,no,True\n",
            "174,0,1,male,56.0,0,0,30.6958,C,First,man,True,A,Cherbourg,no,True\n",
            "175,0,3,male,18.0,1,1,7.8542,S,Third,man,True,,Southampton,no,False\n",
            "176,0,3,male,,3,1,25.4667,S,Third,man,True,,Southampton,no,False\n",
            "177,0,1,female,50.0,0,0,28.7125,C,First,woman,False,C,Cherbourg,no,True\n",
            "178,0,2,male,30.0,0,0,13.0,S,Second,man,True,,Southampton,no,True\n",
            "179,0,3,male,36.0,0,0,0.0,S,Third,man,True,,Southampton,no,True\n",
            "180,0,3,female,,8,2,69.55,S,Third,woman,False,,Southampton,no,False\n",
            "181,0,2,male,,0,0,15.05,C,Second,man,True,,Cherbourg,no,True\n",
            "182,0,3,male,9.0,4,2,31.3875,S,Third,child,False,,Southampton,no,False\n",
            "183,1,2,male,1.0,2,1,39.0,S,Second,child,False,F,Southampton,yes,False\n",
            "184,1,3,female,4.0,0,2,22.025,S,Third,child,False,,Southampton,yes,False\n",
            "185,0,1,male,,0,0,50.0,S,First,man,True,A,Southampton,no,True\n",
            "186,1,3,female,,1,0,15.5,Q,Third,woman,False,,Queenstown,yes,False\n",
            "187,1,1,male,45.0,0,0,26.55,S,First,man,True,,Southampton,yes,True\n",
            "188,0,3,male,40.0,1,1,15.5,Q,Third,man,True,,Queenstown,no,False\n",
            "189,0,3,male,36.0,0,0,7.8958,S,Third,man,True,,Southampton,no,True\n",
            "190,1,2,female,32.0,0,0,13.0,S,Second,woman,False,,Southampton,yes,True\n",
            "191,0,2,male,19.0,0,0,13.0,S,Second,man,True,,Southampton,no,True\n",
            "192,1,3,female,19.0,1,0,7.8542,S,Third,woman,False,,Southampton,yes,False\n",
            "193,1,2,male,3.0,1,1,26.0,S,Second,child,False,F,Southampton,yes,False\n",
            "194,1,1,female,44.0,0,0,27.7208,C,First,woman,False,B,Cherbourg,yes,True\n",
            "195,1,1,female,58.0,0,0,146.5208,C,First,woman,False,B,Cherbourg,yes,True\n",
            "196,0,3,male,,0,0,7.75,Q,Third,man,True,,Queenstown,no,True\n",
            "197,0,3,male,42.0,0,1,8.4042,S,Third,man,True,,Southampton,no,False\n",
            "198,1,3,female,,0,0,7.75,Q,Third,woman,False,,Queenstown,yes,True\n",
            "199,0,2,female,24.0,0,0,13.0,S,Second,woman,False,,Southampton,no,True\n",
            "200,0,3,male,28.0,0,0,9.5,S,Third,man,True,,Southampton,no,True\n",
            "201,0,3,male,,8,2,69.55,S,Third,man,True,,Southampton,no,False\n",
            "202,0,3,male,34.0,0,0,6.4958,S,Third,man,True,,Southampton,no,True\n",
            "203,0,3,male,45.5,0,0,7.225,C,Third,man,True,,Cherbourg,no,True\n",
            "204,1,3,male,18.0,0,0,8.05,S,Third,man,True,,Southampton,yes,True\n",
            "205,0,3,female,2.0,0,1,10.4625,S,Third,child,False,G,Southampton,no,False\n",
            "206,0,3,male,32.0,1,0,15.85,S,Third,man,True,,Southampton,no,False\n",
            "207,1,3,male,26.0,0,0,18.7875,C,Third,man,True,,Cherbourg,yes,True\n",
            "208,1,3,female,16.0,0,0,7.75,Q,Third,woman,False,,Queenstown,yes,True\n",
            "209,1,1,male,40.0,0,0,31.0,C,First,man,True,A,Cherbourg,yes,True\n",
            "210,0,3,male,24.0,0,0,7.05,S,Third,man,True,,Southampton,no,True\n",
            "211,1,2,female,35.0,0,0,21.0,S,Second,woman,False,,Southampton,yes,True\n",
            "212,0,3,male,22.0,0,0,7.25,S,Third,man,True,,Southampton,no,True\n",
            "213,0,2,male,30.0,0,0,13.0,S,Second,man,True,,Southampton,no,True\n",
            "214,0,3,male,,1,0,7.75,Q,Third,man,True,,Queenstown,no,False\n",
            "215,1,1,female,31.0,1,0,113.275,C,First,woman,False,D,Cherbourg,yes,False\n",
            "216,1,3,female,27.0,0,0,7.925,S,Third,woman,False,,Southampton,yes,True\n",
            "217,0,2,male,42.0,1,0,27.0,S,Second,man,True,,Southampton,no,False\n",
            "218,1,1,female,32.0,0,0,76.2917,C,First,woman,False,D,Cherbourg,yes,True\n",
            "219,0,2,male,30.0,0,0,10.5,S,Second,man,True,,Southampton,no,True\n",
            "220,1,3,male,16.0,0,0,8.05,S,Third,man,True,,Southampton,yes,True\n",
            "221,0,2,male,27.0,0,0,13.0,S,Second,man,True,,Southampton,no,True\n",
            "222,0,3,male,51.0,0,0,8.05,S,Third,man,True,,Southampton,no,True\n",
            "223,0,3,male,,0,0,7.8958,S,Third,man,True,,Southampton,no,True\n",
            "224,1,1,male,38.0,1,0,90.0,S,First,man,True,C,Southampton,yes,False\n",
            "225,0,3,male,22.0,0,0,9.35,S,Third,man,True,,Southampton,no,True\n",
            "226,1,2,male,19.0,0,0,10.5,S,Second,man,True,,Southampton,yes,True\n",
            "227,0,3,male,20.5,0,0,7.25,S,Third,man,True,,Southampton,no,True\n",
            "228,0,2,male,18.0,0,0,13.0,S,Second,man,True,,Southampton,no,True\n",
            "229,0,3,female,,3,1,25.4667,S,Third,woman,False,,Southampton,no,False\n",
            "230,1,1,female,35.0,1,0,83.475,S,First,woman,False,C,Southampton,yes,False\n",
            "231,0,3,male,29.0,0,0,7.775,S,Third,man,True,,Southampton,no,True\n",
            "232,0,2,male,59.0,0,0,13.5,S,Second,man,True,,Southampton,no,True\n",
            "233,1,3,female,5.0,4,2,31.3875,S,Third,child,False,,Southampton,yes,False\n",
            "234,0,2,male,24.0,0,0,10.5,S,Second,man,True,,Southampton,no,True\n",
            "235,0,3,female,,0,0,7.55,S,Third,woman,False,,Southampton,no,True\n",
            "236,0,2,male,44.0,1,0,26.0,S,Second,man,True,,Southampton,no,False\n",
            "237,1,2,female,8.0,0,2,26.25,S,Second,child,False,,Southampton,yes,False\n",
            "238,0,2,male,19.0,0,0,10.5,S,Second,man,True,,Southampton,no,True\n",
            "239,0,2,male,33.0,0,0,12.275,S,Second,man,True,,Southampton,no,True\n",
            "240,0,3,female,,1,0,14.4542,C,Third,woman,False,,Cherbourg,no,False\n",
            "241,1,3,female,,1,0,15.5,Q,Third,woman,False,,Queenstown,yes,False\n",
            "242,0,2,male,29.0,0,0,10.5,S,Second,man,True,,Southampton,no,True\n",
            "243,0,3,male,22.0,0,0,7.125,S,Third,man,True,,Southampton,no,True\n",
            "244,0,3,male,30.0,0,0,7.225,C,Third,man,True,,Cherbourg,no,True\n",
            "245,0,1,male,44.0,2,0,90.0,Q,First,man,True,C,Queenstown,no,False\n",
            "246,0,3,female,25.0,0,0,7.775,S,Third,woman,False,,Southampton,no,True\n",
            "247,1,2,female,24.0,0,2,14.5,S,Second,woman,False,,Southampton,yes,False\n",
            "248,1,1,male,37.0,1,1,52.5542,S,First,man,True,D,Southampton,yes,False\n",
            "249,0,2,male,54.0,1,0,26.0,S,Second,man,True,,Southampton,no,False\n",
            "250,0,3,male,,0,0,7.25,S,Third,man,True,,Southampton,no,True\n",
            "251,0,3,female,29.0,1,1,10.4625,S,Third,woman,False,G,Southampton,no,False\n",
            "252,0,1,male,62.0,0,0,26.55,S,First,man,True,C,Southampton,no,True\n",
            "253,0,3,male,30.0,1,0,16.1,S,Third,man,True,,Southampton,no,False\n",
            "254,0,3,female,41.0,0,2,20.2125,S,Third,woman,False,,Southampton,no,False\n",
            "255,1,3,female,29.0,0,2,15.2458,C,Third,woman,False,,Cherbourg,yes,False\n",
            "256,1,1,female,,0,0,79.2,C,First,woman,False,,Cherbourg,yes,True\n",
            "257,1,1,female,30.0,0,0,86.5,S,First,woman,False,B,Southampton,yes,True\n",
            "258,1,1,female,35.0,0,0,512.3292,C,First,woman,False,,Cherbourg,yes,True\n",
            "259,1,2,female,50.0,0,1,26.0,S,Second,woman,False,,Southampton,yes,False\n",
            "260,0,3,male,,0,0,7.75,Q,Third,man,True,,Queenstown,no,True\n",
            "261,1,3,male,3.0,4,2,31.3875,S,Third,child,False,,Southampton,yes,False\n",
            "262,0,1,male,52.0,1,1,79.65,S,First,man,True,E,Southampton,no,False\n",
            "263,0,1,male,40.0,0,0,0.0,S,First,man,True,B,Southampton,no,True\n",
            "264,0,3,female,,0,0,7.75,Q,Third,woman,False,,Queenstown,no,True\n",
            "265,0,2,male,36.0,0,0,10.5,S,Second,man,True,,Southampton,no,True\n",
            "266,0,3,male,16.0,4,1,39.6875,S,Third,man,True,,Southampton,no,False\n",
            "267,1,3,male,25.0,1,0,7.775,S,Third,man,True,,Southampton,yes,False\n",
            "268,1,1,female,58.0,0,1,153.4625,S,First,woman,False,C,Southampton,yes,False\n",
            "269,1,1,female,35.0,0,0,135.6333,S,First,woman,False,C,Southampton,yes,True\n",
            "270,0,1,male,,0,0,31.0,S,First,man,True,,Southampton,no,True\n",
            "271,1,3,male,25.0,0,0,0.0,S,Third,man,True,,Southampton,yes,True\n",
            "272,1,2,female,41.0,0,1,19.5,S,Second,woman,False,,Southampton,yes,False\n",
            "273,0,1,male,37.0,0,1,29.7,C,First,man,True,C,Cherbourg,no,False\n",
            "274,1,3,female,,0,0,7.75,Q,Third,woman,False,,Queenstown,yes,True\n",
            "275,1,1,female,63.0,1,0,77.9583,S,First,woman,False,D,Southampton,yes,False\n",
            "276,0,3,female,45.0,0,0,7.75,S,Third,woman,False,,Southampton,no,True\n",
            "277,0,2,male,,0,0,0.0,S,Second,man,True,,Southampton,no,True\n",
            "278,0,3,male,7.0,4,1,29.125,Q,Third,child,False,,Queenstown,no,False\n",
            "279,1,3,female,35.0,1,1,20.25,S,Third,woman,False,,Southampton,yes,False\n",
            "280,0,3,male,65.0,0,0,7.75,Q,Third,man,True,,Queenstown,no,True\n",
            "281,0,3,male,28.0,0,0,7.8542,S,Third,man,True,,Southampton,no,True\n",
            "282,0,3,male,16.0,0,0,9.5,S,Third,man,True,,Southampton,no,True\n",
            "283,1,3,male,19.0,0,0,8.05,S,Third,man,True,,Southampton,yes,True\n",
            "284,0,1,male,,0,0,26.0,S,First,man,True,A,Southampton,no,True\n",
            "285,0,3,male,33.0,0,0,8.6625,C,Third,man,True,,Cherbourg,no,True\n",
            "286,1,3,male,30.0,0,0,9.5,S,Third,man,True,,Southampton,yes,True\n",
            "287,0,3,male,22.0,0,0,7.8958,S,Third,man,True,,Southampton,no,True\n",
            "288,1,2,male,42.0,0,0,13.0,S,Second,man,True,,Southampton,yes,True\n",
            "289,1,3,female,22.0,0,0,7.75,Q,Third,woman,False,,Queenstown,yes,True\n",
            "290,1,1,female,26.0,0,0,78.85,S,First,woman,False,,Southampton,yes,True\n",
            "291,1,1,female,19.0,1,0,91.0792,C,First,woman,False,B,Cherbourg,yes,False\n",
            "292,0,2,male,36.0,0,0,12.875,C,Second,man,True,D,Cherbourg,no,True\n",
            "293,0,3,female,24.0,0,0,8.85,S,Third,woman,False,,Southampton,no,True\n",
            "294,0,3,male,24.0,0,0,7.8958,S,Third,man,True,,Southampton,no,True\n",
            "295,0,1,male,,0,0,27.7208,C,First,man,True,,Cherbourg,no,True\n",
            "296,0,3,male,23.5,0,0,7.2292,C,Third,man,True,,Cherbourg,no,True\n",
            "297,0,1,female,2.0,1,2,151.55,S,First,child,False,C,Southampton,no,False\n",
            "298,1,1,male,,0,0,30.5,S,First,man,True,C,Southampton,yes,True\n",
            "299,1,1,female,50.0,0,1,247.5208,C,First,woman,False,B,Cherbourg,yes,False\n",
            "300,1,3,female,,0,0,7.75,Q,Third,woman,False,,Queenstown,yes,True\n",
            "301,1,3,male,,2,0,23.25,Q,Third,man,True,,Queenstown,yes,False\n",
            "302,0,3,male,19.0,0,0,0.0,S,Third,man,True,,Southampton,no,True\n",
            "303,1,2,female,,0,0,12.35,Q,Second,woman,False,E,Queenstown,yes,True\n",
            "304,0,3,male,,0,0,8.05,S,Third,man,True,,Southampton,no,True\n",
            "305,1,1,male,0.92,1,2,151.55,S,First,child,False,C,Southampton,yes,False\n",
            "306,1,1,female,,0,0,110.8833,C,First,woman,False,,Cherbourg,yes,True\n",
            "307,1,1,female,17.0,1,0,108.9,C,First,woman,False,C,Cherbourg,yes,False\n",
            "308,0,2,male,30.0,1,0,24.0,C,Second,man,True,,Cherbourg,no,False\n",
            "309,1,1,female,30.0,0,0,56.9292,C,First,woman,False,E,Cherbourg,yes,True\n",
            "310,1,1,female,24.0,0,0,83.1583,C,First,woman,False,C,Cherbourg,yes,True\n",
            "311,1,1,female,18.0,2,2,262.375,C,First,woman,False,B,Cherbourg,yes,False\n",
            "312,0,2,female,26.0,1,1,26.0,S,Second,woman,False,,Southampton,no,False\n",
            "313,0,3,male,28.0,0,0,7.8958,S,Third,man,True,,Southampton,no,True\n",
            "314,0,2,male,43.0,1,1,26.25,S,Second,man,True,,Southampton,no,False\n",
            "315,1,3,female,26.0,0,0,7.8542,S,Third,woman,False,,Southampton,yes,True\n",
            "316,1,2,female,24.0,1,0,26.0,S,Second,woman,False,,Southampton,yes,False\n",
            "317,0,2,male,54.0,0,0,14.0,S,Second,man,True,,Southampton,no,True\n",
            "318,1,1,female,31.0,0,2,164.8667,S,First,woman,False,C,Southampton,yes,False\n",
            "319,1,1,female,40.0,1,1,134.5,C,First,woman,False,E,Cherbourg,yes,False\n",
            "320,0,3,male,22.0,0,0,7.25,S,Third,man,True,,Southampton,no,True\n",
            "321,0,3,male,27.0,0,0,7.8958,S,Third,man,True,,Southampton,no,True\n",
            "322,1,2,female,30.0,0,0,12.35,Q,Second,woman,False,,Queenstown,yes,True\n",
            "323,1,2,female,22.0,1,1,29.0,S,Second,woman,False,,Southampton,yes,False\n",
            "324,0,3,male,,8,2,69.55,S,Third,man,True,,Southampton,no,False\n",
            "325,1,1,female,36.0,0,0,135.6333,C,First,woman,False,C,Cherbourg,yes,True\n",
            "326,0,3,male,61.0,0,0,6.2375,S,Third,man,True,,Southampton,no,True\n",
            "327,1,2,female,36.0,0,0,13.0,S,Second,woman,False,D,Southampton,yes,True\n",
            "328,1,3,female,31.0,1,1,20.525,S,Third,woman,False,,Southampton,yes,False\n",
            "329,1,1,female,16.0,0,1,57.9792,C,First,woman,False,B,Cherbourg,yes,False\n",
            "330,1,3,female,,2,0,23.25,Q,Third,woman,False,,Queenstown,yes,False\n",
            "331,0,1,male,45.5,0,0,28.5,S,First,man,True,C,Southampton,no,True\n",
            "332,0,1,male,38.0,0,1,153.4625,S,First,man,True,C,Southampton,no,False\n",
            "333,0,3,male,16.0,2,0,18.0,S,Third,man,True,,Southampton,no,False\n",
            "334,1,1,female,,1,0,133.65,S,First,woman,False,,Southampton,yes,False\n",
            "335,0,3,male,,0,0,7.8958,S,Third,man,True,,Southampton,no,True\n",
            "336,0,1,male,29.0,1,0,66.6,S,First,man,True,C,Southampton,no,False\n",
            "337,1,1,female,41.0,0,0,134.5,C,First,woman,False,E,Cherbourg,yes,True\n",
            "338,1,3,male,45.0,0,0,8.05,S,Third,man,True,,Southampton,yes,True\n",
            "339,0,1,male,45.0,0,0,35.5,S,First,man,True,,Southampton,no,True\n",
            "340,1,2,male,2.0,1,1,26.0,S,Second,child,False,F,Southampton,yes,False\n",
            "341,1,1,female,24.0,3,2,263.0,S,First,woman,False,C,Southampton,yes,False\n",
            "342,0,2,male,28.0,0,0,13.0,S,Second,man,True,,Southampton,no,True\n",
            "343,0,2,male,25.0,0,0,13.0,S,Second,man,True,,Southampton,no,True\n",
            "344,0,2,male,36.0,0,0,13.0,S,Second,man,True,,Southampton,no,True\n",
            "345,1,2,female,24.0,0,0,13.0,S,Second,woman,False,F,Southampton,yes,True\n",
            "346,1,2,female,40.0,0,0,13.0,S,Second,woman,False,,Southampton,yes,True\n",
            "347,1,3,female,,1,0,16.1,S,Third,woman,False,,Southampton,yes,False\n",
            "348,1,3,male,3.0,1,1,15.9,S,Third,child,False,,Southampton,yes,False\n",
            "349,0,3,male,42.0,0,0,8.6625,S,Third,man,True,,Southampton,no,True\n",
            "350,0,3,male,23.0,0,0,9.225,S,Third,man,True,,Southampton,no,True\n",
            "351,0,1,male,,0,0,35.0,S,First,man,True,C,Southampton,no,True\n",
            "352,0,3,male,15.0,1,1,7.2292,C,Third,child,False,,Cherbourg,no,False\n",
            "353,0,3,male,25.0,1,0,17.8,S,Third,man,True,,Southampton,no,False\n",
            "354,0,3,male,,0,0,7.225,C,Third,man,True,,Cherbourg,no,True\n",
            "355,0,3,male,28.0,0,0,9.5,S,Third,man,True,,Southampton,no,True\n",
            "356,1,1,female,22.0,0,1,55.0,S,First,woman,False,E,Southampton,yes,False\n",
            "357,0,2,female,38.0,0,0,13.0,S,Second,woman,False,,Southampton,no,True\n",
            "358,1,3,female,,0,0,7.8792,Q,Third,woman,False,,Queenstown,yes,True\n",
            "359,1,3,female,,0,0,7.8792,Q,Third,woman,False,,Queenstown,yes,True\n",
            "360,0,3,male,40.0,1,4,27.9,S,Third,man,True,,Southampton,no,False\n",
            "361,0,2,male,29.0,1,0,27.7208,C,Second,man,True,,Cherbourg,no,False\n",
            "362,0,3,female,45.0,0,1,14.4542,C,Third,woman,False,,Cherbourg,no,False\n",
            "363,0,3,male,35.0,0,0,7.05,S,Third,man,True,,Southampton,no,True\n",
            "364,0,3,male,,1,0,15.5,Q,Third,man,True,,Queenstown,no,False\n",
            "365,0,3,male,30.0,0,0,7.25,S,Third,man,True,,Southampton,no,True\n",
            "366,1,1,female,60.0,1,0,75.25,C,First,woman,False,D,Cherbourg,yes,False\n",
            "367,1,3,female,,0,0,7.2292,C,Third,woman,False,,Cherbourg,yes,True\n",
            "368,1,3,female,,0,0,7.75,Q,Third,woman,False,,Queenstown,yes,True\n",
            "369,1,1,female,24.0,0,0,69.3,C,First,woman,False,B,Cherbourg,yes,True\n",
            "370,1,1,male,25.0,1,0,55.4417,C,First,man,True,E,Cherbourg,yes,False\n",
            "371,0,3,male,18.0,1,0,6.4958,S,Third,man,True,,Southampton,no,False\n",
            "372,0,3,male,19.0,0,0,8.05,S,Third,man,True,,Southampton,no,True\n",
            "373,0,1,male,22.0,0,0,135.6333,C,First,man,True,,Cherbourg,no,True\n",
            "374,0,3,female,3.0,3,1,21.075,S,Third,child,False,,Southampton,no,False\n",
            "375,1,1,female,,1,0,82.1708,C,First,woman,False,,Cherbourg,yes,False\n",
            "376,1,3,female,22.0,0,0,7.25,S,Third,woman,False,,Southampton,yes,True\n",
            "377,0,1,male,27.0,0,2,211.5,C,First,man,True,C,Cherbourg,no,False\n",
            "378,0,3,male,20.0,0,0,4.0125,C,Third,man,True,,Cherbourg,no,True\n",
            "379,0,3,male,19.0,0,0,7.775,S,Third,man,True,,Southampton,no,True\n",
            "380,1,1,female,42.0,0,0,227.525,C,First,woman,False,,Cherbourg,yes,True\n",
            "381,1,3,female,1.0,0,2,15.7417,C,Third,child,False,,Cherbourg,yes,False\n",
            "382,0,3,male,32.0,0,0,7.925,S,Third,man,True,,Southampton,no,True\n",
            "383,1,1,female,35.0,1,0,52.0,S,First,woman,False,,Southampton,yes,False\n",
            "384,0,3,male,,0,0,7.8958,S,Third,man,True,,Southampton,no,True\n",
            "385,0,2,male,18.0,0,0,73.5,S,Second,man,True,,Southampton,no,True\n",
            "386,0,3,male,1.0,5,2,46.9,S,Third,child,False,,Southampton,no,False\n",
            "387,1,2,female,36.0,0,0,13.0,S,Second,woman,False,,Southampton,yes,True\n",
            "388,0,3,male,,0,0,7.7292,Q,Third,man,True,,Queenstown,no,True\n",
            "389,1,2,female,17.0,0,0,12.0,C,Second,woman,False,,Cherbourg,yes,True\n",
            "390,1,1,male,36.0,1,2,120.0,S,First,man,True,B,Southampton,yes,False\n",
            "391,1,3,male,21.0,0,0,7.7958,S,Third,man,True,,Southampton,yes,True\n",
            "392,0,3,male,28.0,2,0,7.925,S,Third,man,True,,Southampton,no,False\n",
            "393,1,1,female,23.0,1,0,113.275,C,First,woman,False,D,Cherbourg,yes,False\n",
            "394,1,3,female,24.0,0,2,16.7,S,Third,woman,False,G,Southampton,yes,False\n",
            "395,0,3,male,22.0,0,0,7.7958,S,Third,man,True,,Southampton,no,True\n",
            "396,0,3,female,31.0,0,0,7.8542,S,Third,woman,False,,Southampton,no,True\n",
            "397,0,2,male,46.0,0,0,26.0,S,Second,man,True,,Southampton,no,True\n",
            "398,0,2,male,23.0,0,0,10.5,S,Second,man,True,,Southampton,no,True\n",
            "399,1,2,female,28.0,0,0,12.65,S,Second,woman,False,,Southampton,yes,True\n",
            "400,1,3,male,39.0,0,0,7.925,S,Third,man,True,,Southampton,yes,True\n",
            "401,0,3,male,26.0,0,0,8.05,S,Third,man,True,,Southampton,no,True\n",
            "402,0,3,female,21.0,1,0,9.825,S,Third,woman,False,,Southampton,no,False\n",
            "403,0,3,male,28.0,1,0,15.85,S,Third,man,True,,Southampton,no,False\n",
            "404,0,3,female,20.0,0,0,8.6625,S,Third,woman,False,,Southampton,no,True\n",
            "405,0,2,male,34.0,1,0,21.0,S,Second,man,True,,Southampton,no,False\n",
            "406,0,3,male,51.0,0,0,7.75,S,Third,man,True,,Southampton,no,True\n",
            "407,1,2,male,3.0,1,1,18.75,S,Second,child,False,,Southampton,yes,False\n",
            "408,0,3,male,21.0,0,0,7.775,S,Third,man,True,,Southampton,no,True\n",
            "409,0,3,female,,3,1,25.4667,S,Third,woman,False,,Southampton,no,False\n",
            "410,0,3,male,,0,0,7.8958,S,Third,man,True,,Southampton,no,True\n",
            "411,0,3,male,,0,0,6.8583,Q,Third,man,True,,Queenstown,no,True\n",
            "412,1,1,female,33.0,1,0,90.0,Q,First,woman,False,C,Queenstown,yes,False\n",
            "413,0,2,male,,0,0,0.0,S,Second,man,True,,Southampton,no,True\n",
            "414,1,3,male,44.0,0,0,7.925,S,Third,man,True,,Southampton,yes,True\n",
            "415,0,3,female,,0,0,8.05,S,Third,woman,False,,Southampton,no,True\n",
            "416,1,2,female,34.0,1,1,32.5,S,Second,woman,False,,Southampton,yes,False\n",
            "417,1,2,female,18.0,0,2,13.0,S,Second,woman,False,,Southampton,yes,False\n",
            "418,0,2,male,30.0,0,0,13.0,S,Second,man,True,,Southampton,no,True\n",
            "419,0,3,female,10.0,0,2,24.15,S,Third,child,False,,Southampton,no,False\n",
            "420,0,3,male,,0,0,7.8958,C,Third,man,True,,Cherbourg,no,True\n",
            "421,0,3,male,21.0,0,0,7.7333,Q,Third,man,True,,Queenstown,no,True\n",
            "422,0,3,male,29.0,0,0,7.875,S,Third,man,True,,Southampton,no,True\n",
            "423,0,3,female,28.0,1,1,14.4,S,Third,woman,False,,Southampton,no,False\n",
            "424,0,3,male,18.0,1,1,20.2125,S,Third,man,True,,Southampton,no,False\n",
            "425,0,3,male,,0,0,7.25,S,Third,man,True,,Southampton,no,True\n",
            "426,1,2,female,28.0,1,0,26.0,S,Second,woman,False,,Southampton,yes,False\n",
            "427,1,2,female,19.0,0,0,26.0,S,Second,woman,False,,Southampton,yes,True\n",
            "428,0,3,male,,0,0,7.75,Q,Third,man,True,,Queenstown,no,True\n",
            "429,1,3,male,32.0,0,0,8.05,S,Third,man,True,E,Southampton,yes,True\n",
            "430,1,1,male,28.0,0,0,26.55,S,First,man,True,C,Southampton,yes,True\n",
            "431,1,3,female,,1,0,16.1,S,Third,woman,False,,Southampton,yes,False\n",
            "432,1,2,female,42.0,1,0,26.0,S,Second,woman,False,,Southampton,yes,False\n",
            "433,0,3,male,17.0,0,0,7.125,S,Third,man,True,,Southampton,no,True\n",
            "434,0,1,male,50.0,1,0,55.9,S,First,man,True,E,Southampton,no,False\n",
            "435,1,1,female,14.0,1,2,120.0,S,First,child,False,B,Southampton,yes,False\n",
            "436,0,3,female,21.0,2,2,34.375,S,Third,woman,False,,Southampton,no,False\n",
            "437,1,2,female,24.0,2,3,18.75,S,Second,woman,False,,Southampton,yes,False\n",
            "438,0,1,male,64.0,1,4,263.0,S,First,man,True,C,Southampton,no,False\n",
            "439,0,2,male,31.0,0,0,10.5,S,Second,man,True,,Southampton,no,True\n",
            "440,1,2,female,45.0,1,1,26.25,S,Second,woman,False,,Southampton,yes,False\n",
            "441,0,3,male,20.0,0,0,9.5,S,Third,man,True,,Southampton,no,True\n",
            "442,0,3,male,25.0,1,0,7.775,S,Third,man,True,,Southampton,no,False\n",
            "443,1,2,female,28.0,0,0,13.0,S,Second,woman,False,,Southampton,yes,True\n",
            "444,1,3,male,,0,0,8.1125,S,Third,man,True,,Southampton,yes,True\n",
            "445,1,1,male,4.0,0,2,81.8583,S,First,child,False,A,Southampton,yes,False\n",
            "446,1,2,female,13.0,0,1,19.5,S,Second,child,False,,Southampton,yes,False\n",
            "447,1,1,male,34.0,0,0,26.55,S,First,man,True,,Southampton,yes,True\n",
            "448,1,3,female,5.0,2,1,19.2583,C,Third,child,False,,Cherbourg,yes,False\n",
            "449,1,1,male,52.0,0,0,30.5,S,First,man,True,C,Southampton,yes,True\n",
            "450,0,2,male,36.0,1,2,27.75,S,Second,man,True,,Southampton,no,False\n",
            "451,0,3,male,,1,0,19.9667,S,Third,man,True,,Southampton,no,False\n",
            "452,0,1,male,30.0,0,0,27.75,C,First,man,True,C,Cherbourg,no,True\n",
            "453,1,1,male,49.0,1,0,89.1042,C,First,man,True,C,Cherbourg,yes,False\n",
            "454,0,3,male,,0,0,8.05,S,Third,man,True,,Southampton,no,True\n",
            "455,1,3,male,29.0,0,0,7.8958,C,Third,man,True,,Cherbourg,yes,True\n",
            "456,0,1,male,65.0,0,0,26.55,S,First,man,True,E,Southampton,no,True\n",
            "457,1,1,female,,1,0,51.8625,S,First,woman,False,D,Southampton,yes,False\n",
            "458,1,2,female,50.0,0,0,10.5,S,Second,woman,False,,Southampton,yes,True\n",
            "459,0,3,male,,0,0,7.75,Q,Third,man,True,,Queenstown,no,True\n",
            "460,1,1,male,48.0,0,0,26.55,S,First,man,True,E,Southampton,yes,True\n",
            "461,0,3,male,34.0,0,0,8.05,S,Third,man,True,,Southampton,no,True\n",
            "462,0,1,male,47.0,0,0,38.5,S,First,man,True,E,Southampton,no,True\n",
            "463,0,2,male,48.0,0,0,13.0,S,Second,man,True,,Southampton,no,True\n",
            "464,0,3,male,,0,0,8.05,S,Third,man,True,,Southampton,no,True\n",
            "465,0,3,male,38.0,0,0,7.05,S,Third,man,True,,Southampton,no,True\n",
            "466,0,2,male,,0,0,0.0,S,Second,man,True,,Southampton,no,True\n",
            "467,0,1,male,56.0,0,0,26.55,S,First,man,True,,Southampton,no,True\n",
            "468,0,3,male,,0,0,7.725,Q,Third,man,True,,Queenstown,no,True\n",
            "469,1,3,female,0.75,2,1,19.2583,C,Third,child,False,,Cherbourg,yes,False\n",
            "470,0,3,male,,0,0,7.25,S,Third,man,True,,Southampton,no,True\n",
            "471,0,3,male,38.0,0,0,8.6625,S,Third,man,True,,Southampton,no,True\n",
            "472,1,2,female,33.0,1,2,27.75,S,Second,woman,False,,Southampton,yes,False\n",
            "473,1,2,female,23.0,0,0,13.7917,C,Second,woman,False,D,Cherbourg,yes,True\n",
            "474,0,3,female,22.0,0,0,9.8375,S,Third,woman,False,,Southampton,no,True\n",
            "475,0,1,male,,0,0,52.0,S,First,man,True,A,Southampton,no,True\n",
            "476,0,2,male,34.0,1,0,21.0,S,Second,man,True,,Southampton,no,False\n",
            "477,0,3,male,29.0,1,0,7.0458,S,Third,man,True,,Southampton,no,False\n",
            "478,0,3,male,22.0,0,0,7.5208,S,Third,man,True,,Southampton,no,True\n",
            "479,1,3,female,2.0,0,1,12.2875,S,Third,child,False,,Southampton,yes,False\n",
            "480,0,3,male,9.0,5,2,46.9,S,Third,child,False,,Southampton,no,False\n",
            "481,0,2,male,,0,0,0.0,S,Second,man,True,,Southampton,no,True\n",
            "482,0,3,male,50.0,0,0,8.05,S,Third,man,True,,Southampton,no,True\n",
            "483,1,3,female,63.0,0,0,9.5875,S,Third,woman,False,,Southampton,yes,True\n",
            "484,1,1,male,25.0,1,0,91.0792,C,First,man,True,B,Cherbourg,yes,False\n",
            "485,0,3,female,,3,1,25.4667,S,Third,woman,False,,Southampton,no,False\n",
            "486,1,1,female,35.0,1,0,90.0,S,First,woman,False,C,Southampton,yes,False\n",
            "487,0,1,male,58.0,0,0,29.7,C,First,man,True,B,Cherbourg,no,True\n",
            "488,0,3,male,30.0,0,0,8.05,S,Third,man,True,,Southampton,no,True\n",
            "489,1,3,male,9.0,1,1,15.9,S,Third,child,False,,Southampton,yes,False\n",
            "490,0,3,male,,1,0,19.9667,S,Third,man,True,,Southampton,no,False\n",
            "491,0,3,male,21.0,0,0,7.25,S,Third,man,True,,Southampton,no,True\n",
            "492,0,1,male,55.0,0,0,30.5,S,First,man,True,C,Southampton,no,True\n",
            "493,0,1,male,71.0,0,0,49.5042,C,First,man,True,,Cherbourg,no,True\n",
            "494,0,3,male,21.0,0,0,8.05,S,Third,man,True,,Southampton,no,True\n",
            "495,0,3,male,,0,0,14.4583,C,Third,man,True,,Cherbourg,no,True\n",
            "496,1,1,female,54.0,1,0,78.2667,C,First,woman,False,D,Cherbourg,yes,False\n",
            "497,0,3,male,,0,0,15.1,S,Third,man,True,,Southampton,no,True\n",
            "498,0,1,female,25.0,1,2,151.55,S,First,woman,False,C,Southampton,no,False\n",
            "499,0,3,male,24.0,0,0,7.7958,S,Third,man,True,,Southampton,no,True\n",
            "500,0,3,male,17.0,0,0,8.6625,S,Third,man,True,,Southampton,no,True\n",
            "501,0,3,female,21.0,0,0,7.75,Q,Third,woman,False,,Queenstown,no,True\n",
            "502,0,3,female,,0,0,7.6292,Q,Third,woman,False,,Queenstown,no,True\n",
            "503,0,3,female,37.0,0,0,9.5875,S,Third,woman,False,,Southampton,no,True\n",
            "504,1,1,female,16.0,0,0,86.5,S,First,woman,False,B,Southampton,yes,True\n",
            "505,0,1,male,18.0,1,0,108.9,C,First,man,True,C,Cherbourg,no,False\n",
            "506,1,2,female,33.0,0,2,26.0,S,Second,woman,False,,Southampton,yes,False\n",
            "507,1,1,male,,0,0,26.55,S,First,man,True,,Southampton,yes,True\n",
            "508,0,3,male,28.0,0,0,22.525,S,Third,man,True,,Southampton,no,True\n",
            "509,1,3,male,26.0,0,0,56.4958,S,Third,man,True,,Southampton,yes,True\n",
            "510,1,3,male,29.0,0,0,7.75,Q,Third,man,True,,Queenstown,yes,True\n",
            "511,0,3,male,,0,0,8.05,S,Third,man,True,,Southampton,no,True\n",
            "512,1,1,male,36.0,0,0,26.2875,S,First,man,True,E,Southampton,yes,True\n",
            "513,1,1,female,54.0,1,0,59.4,C,First,woman,False,,Cherbourg,yes,False\n",
            "514,0,3,male,24.0,0,0,7.4958,S,Third,man,True,,Southampton,no,True\n",
            "515,0,1,male,47.0,0,0,34.0208,S,First,man,True,D,Southampton,no,True\n",
            "516,1,2,female,34.0,0,0,10.5,S,Second,woman,False,F,Southampton,yes,True\n",
            "517,0,3,male,,0,0,24.15,Q,Third,man,True,,Queenstown,no,True\n",
            "518,1,2,female,36.0,1,0,26.0,S,Second,woman,False,,Southampton,yes,False\n",
            "519,0,3,male,32.0,0,0,7.8958,S,Third,man,True,,Southampton,no,True\n",
            "520,1,1,female,30.0,0,0,93.5,S,First,woman,False,B,Southampton,yes,True\n",
            "521,0,3,male,22.0,0,0,7.8958,S,Third,man,True,,Southampton,no,True\n",
            "522,0,3,male,,0,0,7.225,C,Third,man,True,,Cherbourg,no,True\n",
            "523,1,1,female,44.0,0,1,57.9792,C,First,woman,False,B,Cherbourg,yes,False\n",
            "524,0,3,male,,0,0,7.2292,C,Third,man,True,,Cherbourg,no,True\n",
            "525,0,3,male,40.5,0,0,7.75,Q,Third,man,True,,Queenstown,no,True\n",
            "526,1,2,female,50.0,0,0,10.5,S,Second,woman,False,,Southampton,yes,True\n",
            "527,0,1,male,,0,0,221.7792,S,First,man,True,C,Southampton,no,True\n",
            "528,0,3,male,39.0,0,0,7.925,S,Third,man,True,,Southampton,no,True\n",
            "529,0,2,male,23.0,2,1,11.5,S,Second,man,True,,Southampton,no,False\n",
            "530,1,2,female,2.0,1,1,26.0,S,Second,child,False,,Southampton,yes,False\n",
            "531,0,3,male,,0,0,7.2292,C,Third,man,True,,Cherbourg,no,True\n",
            "532,0,3,male,17.0,1,1,7.2292,C,Third,man,True,,Cherbourg,no,False\n",
            "533,1,3,female,,0,2,22.3583,C,Third,woman,False,,Cherbourg,yes,False\n",
            "534,0,3,female,30.0,0,0,8.6625,S,Third,woman,False,,Southampton,no,True\n",
            "535,1,2,female,7.0,0,2,26.25,S,Second,child,False,,Southampton,yes,False\n",
            "536,0,1,male,45.0,0,0,26.55,S,First,man,True,B,Southampton,no,True\n",
            "537,1,1,female,30.0,0,0,106.425,C,First,woman,False,,Cherbourg,yes,True\n",
            "538,0,3,male,,0,0,14.5,S,Third,man,True,,Southampton,no,True\n",
            "539,1,1,female,22.0,0,2,49.5,C,First,woman,False,B,Cherbourg,yes,False\n",
            "540,1,1,female,36.0,0,2,71.0,S,First,woman,False,B,Southampton,yes,False\n",
            "541,0,3,female,9.0,4,2,31.275,S,Third,child,False,,Southampton,no,False\n",
            "542,0,3,female,11.0,4,2,31.275,S,Third,child,False,,Southampton,no,False\n",
            "543,1,2,male,32.0,1,0,26.0,S,Second,man,True,,Southampton,yes,False\n",
            "544,0,1,male,50.0,1,0,106.425,C,First,man,True,C,Cherbourg,no,False\n",
            "545,0,1,male,64.0,0,0,26.0,S,First,man,True,,Southampton,no,True\n",
            "546,1,2,female,19.0,1,0,26.0,S,Second,woman,False,,Southampton,yes,False\n",
            "547,1,2,male,,0,0,13.8625,C,Second,man,True,,Cherbourg,yes,True\n",
            "548,0,3,male,33.0,1,1,20.525,S,Third,man,True,,Southampton,no,False\n",
            "549,1,2,male,8.0,1,1,36.75,S,Second,child,False,,Southampton,yes,False\n",
            "550,1,1,male,17.0,0,2,110.8833,C,First,man,True,C,Cherbourg,yes,False\n",
            "551,0,2,male,27.0,0,0,26.0,S,Second,man,True,,Southampton,no,True\n",
            "552,0,3,male,,0,0,7.8292,Q,Third,man,True,,Queenstown,no,True\n",
            "553,1,3,male,22.0,0,0,7.225,C,Third,man,True,,Cherbourg,yes,True\n",
            "554,1,3,female,22.0,0,0,7.775,S,Third,woman,False,,Southampton,yes,True\n",
            "555,0,1,male,62.0,0,0,26.55,S,First,man,True,,Southampton,no,True\n",
            "556,1,1,female,48.0,1,0,39.6,C,First,woman,False,A,Cherbourg,yes,False\n",
            "557,0,1,male,,0,0,227.525,C,First,man,True,,Cherbourg,no,True\n",
            "558,1,1,female,39.0,1,1,79.65,S,First,woman,False,E,Southampton,yes,False\n",
            "559,1,3,female,36.0,1,0,17.4,S,Third,woman,False,,Southampton,yes,False\n",
            "560,0,3,male,,0,0,7.75,Q,Third,man,True,,Queenstown,no,True\n",
            "561,0,3,male,40.0,0,0,7.8958,S,Third,man,True,,Southampton,no,True\n",
            "562,0,2,male,28.0,0,0,13.5,S,Second,man,True,,Southampton,no,True\n",
            "563,0,3,male,,0,0,8.05,S,Third,man,True,,Southampton,no,True\n",
            "564,0,3,female,,0,0,8.05,S,Third,woman,False,,Southampton,no,True\n",
            "565,0,3,male,24.0,2,0,24.15,S,Third,man,True,,Southampton,no,False\n",
            "566,0,3,male,19.0,0,0,7.8958,S,Third,man,True,,Southampton,no,True\n",
            "567,0,3,female,29.0,0,4,21.075,S,Third,woman,False,,Southampton,no,False\n",
            "568,0,3,male,,0,0,7.2292,C,Third,man,True,,Cherbourg,no,True\n",
            "569,1,3,male,32.0,0,0,7.8542,S,Third,man,True,,Southampton,yes,True\n",
            "570,1,2,male,62.0,0,0,10.5,S,Second,man,True,,Southampton,yes,True\n",
            "571,1,1,female,53.0,2,0,51.4792,S,First,woman,False,C,Southampton,yes,False\n",
            "572,1,1,male,36.0,0,0,26.3875,S,First,man,True,E,Southampton,yes,True\n",
            "573,1,3,female,,0,0,7.75,Q,Third,woman,False,,Queenstown,yes,True\n",
            "574,0,3,male,16.0,0,0,8.05,S,Third,man,True,,Southampton,no,True\n",
            "575,0,3,male,19.0,0,0,14.5,S,Third,man,True,,Southampton,no,True\n",
            "576,1,2,female,34.0,0,0,13.0,S,Second,woman,False,,Southampton,yes,True\n",
            "577,1,1,female,39.0,1,0,55.9,S,First,woman,False,E,Southampton,yes,False\n",
            "578,0,3,female,,1,0,14.4583,C,Third,woman,False,,Cherbourg,no,False\n",
            "579,1,3,male,32.0,0,0,7.925,S,Third,man,True,,Southampton,yes,True\n",
            "580,1,2,female,25.0,1,1,30.0,S,Second,woman,False,,Southampton,yes,False\n",
            "581,1,1,female,39.0,1,1,110.8833,C,First,woman,False,C,Cherbourg,yes,False\n",
            "582,0,2,male,54.0,0,0,26.0,S,Second,man,True,,Southampton,no,True\n",
            "583,0,1,male,36.0,0,0,40.125,C,First,man,True,A,Cherbourg,no,True\n",
            "584,0,3,male,,0,0,8.7125,C,Third,man,True,,Cherbourg,no,True\n",
            "585,1,1,female,18.0,0,2,79.65,S,First,woman,False,E,Southampton,yes,False\n",
            "586,0,2,male,47.0,0,0,15.0,S,Second,man,True,,Southampton,no,True\n",
            "587,1,1,male,60.0,1,1,79.2,C,First,man,True,B,Cherbourg,yes,False\n",
            "588,0,3,male,22.0,0,0,8.05,S,Third,man,True,,Southampton,no,True\n",
            "589,0,3,male,,0,0,8.05,S,Third,man,True,,Southampton,no,True\n",
            "590,0,3,male,35.0,0,0,7.125,S,Third,man,True,,Southampton,no,True\n",
            "591,1,1,female,52.0,1,0,78.2667,C,First,woman,False,D,Cherbourg,yes,False\n",
            "592,0,3,male,47.0,0,0,7.25,S,Third,man,True,,Southampton,no,True\n",
            "593,0,3,female,,0,2,7.75,Q,Third,woman,False,,Queenstown,no,False\n",
            "594,0,2,male,37.0,1,0,26.0,S,Second,man,True,,Southampton,no,False\n",
            "595,0,3,male,36.0,1,1,24.15,S,Third,man,True,,Southampton,no,False\n",
            "596,1,2,female,,0,0,33.0,S,Second,woman,False,,Southampton,yes,True\n",
            "597,0,3,male,49.0,0,0,0.0,S,Third,man,True,,Southampton,no,True\n",
            "598,0,3,male,,0,0,7.225,C,Third,man,True,,Cherbourg,no,True\n",
            "599,1,1,male,49.0,1,0,56.9292,C,First,man,True,A,Cherbourg,yes,False\n",
            "600,1,2,female,24.0,2,1,27.0,S,Second,woman,False,,Southampton,yes,False\n",
            "601,0,3,male,,0,0,7.8958,S,Third,man,True,,Southampton,no,True\n",
            "602,0,1,male,,0,0,42.4,S,First,man,True,,Southampton,no,True\n",
            "603,0,3,male,44.0,0,0,8.05,S,Third,man,True,,Southampton,no,True\n",
            "604,1,1,male,35.0,0,0,26.55,C,First,man,True,,Cherbourg,yes,True\n",
            "605,0,3,male,36.0,1,0,15.55,S,Third,man,True,,Southampton,no,False\n",
            "606,0,3,male,30.0,0,0,7.8958,S,Third,man,True,,Southampton,no,True\n",
            "607,1,1,male,27.0,0,0,30.5,S,First,man,True,,Southampton,yes,True\n",
            "608,1,2,female,22.0,1,2,41.5792,C,Second,woman,False,,Cherbourg,yes,False\n",
            "609,1,1,female,40.0,0,0,153.4625,S,First,woman,False,C,Southampton,yes,True\n",
            "610,0,3,female,39.0,1,5,31.275,S,Third,woman,False,,Southampton,no,False\n",
            "611,0,3,male,,0,0,7.05,S,Third,man,True,,Southampton,no,True\n",
            "612,1,3,female,,1,0,15.5,Q,Third,woman,False,,Queenstown,yes,False\n",
            "613,0,3,male,,0,0,7.75,Q,Third,man,True,,Queenstown,no,True\n",
            "614,0,3,male,35.0,0,0,8.05,S,Third,man,True,,Southampton,no,True\n",
            "615,1,2,female,24.0,1,2,65.0,S,Second,woman,False,,Southampton,yes,False\n",
            "616,0,3,male,34.0,1,1,14.4,S,Third,man,True,,Southampton,no,False\n",
            "617,0,3,female,26.0,1,0,16.1,S,Third,woman,False,,Southampton,no,False\n",
            "618,1,2,female,4.0,2,1,39.0,S,Second,child,False,F,Southampton,yes,False\n",
            "619,0,2,male,26.0,0,0,10.5,S,Second,man,True,,Southampton,no,True\n",
            "620,0,3,male,27.0,1,0,14.4542,C,Third,man,True,,Cherbourg,no,False\n",
            "621,1,1,male,42.0,1,0,52.5542,S,First,man,True,D,Southampton,yes,False\n",
            "622,1,3,male,20.0,1,1,15.7417,C,Third,man,True,,Cherbourg,yes,False\n",
            "623,0,3,male,21.0,0,0,7.8542,S,Third,man,True,,Southampton,no,True\n",
            "624,0,3,male,21.0,0,0,16.1,S,Third,man,True,,Southampton,no,True\n",
            "625,0,1,male,61.0,0,0,32.3208,S,First,man,True,D,Southampton,no,True\n",
            "626,0,2,male,57.0,0,0,12.35,Q,Second,man,True,,Queenstown,no,True\n",
            "627,1,1,female,21.0,0,0,77.9583,S,First,woman,False,D,Southampton,yes,True\n",
            "628,0,3,male,26.0,0,0,7.8958,S,Third,man,True,,Southampton,no,True\n",
            "629,0,3,male,,0,0,7.7333,Q,Third,man,True,,Queenstown,no,True\n",
            "630,1,1,male,80.0,0,0,30.0,S,First,man,True,A,Southampton,yes,True\n",
            "631,0,3,male,51.0,0,0,7.0542,S,Third,man,True,,Southampton,no,True\n",
            "632,1,1,male,32.0,0,0,30.5,C,First,man,True,B,Cherbourg,yes,True\n",
            "633,0,1,male,,0,0,0.0,S,First,man,True,,Southampton,no,True\n",
            "634,0,3,female,9.0,3,2,27.9,S,Third,child,False,,Southampton,no,False\n",
            "635,1,2,female,28.0,0,0,13.0,S,Second,woman,False,,Southampton,yes,True\n",
            "636,0,3,male,32.0,0,0,7.925,S,Third,man,True,,Southampton,no,True\n",
            "637,0,2,male,31.0,1,1,26.25,S,Second,man,True,,Southampton,no,False\n",
            "638,0,3,female,41.0,0,5,39.6875,S,Third,woman,False,,Southampton,no,False\n",
            "639,0,3,male,,1,0,16.1,S,Third,man,True,,Southampton,no,False\n",
            "640,0,3,male,20.0,0,0,7.8542,S,Third,man,True,,Southampton,no,True\n",
            "641,1,1,female,24.0,0,0,69.3,C,First,woman,False,B,Cherbourg,yes,True\n",
            "642,0,3,female,2.0,3,2,27.9,S,Third,child,False,,Southampton,no,False\n",
            "643,1,3,male,,0,0,56.4958,S,Third,man,True,,Southampton,yes,True\n",
            "644,1,3,female,0.75,2,1,19.2583,C,Third,child,False,,Cherbourg,yes,False\n",
            "645,1,1,male,48.0,1,0,76.7292,C,First,man,True,D,Cherbourg,yes,False\n",
            "646,0,3,male,19.0,0,0,7.8958,S,Third,man,True,,Southampton,no,True\n",
            "647,1,1,male,56.0,0,0,35.5,C,First,man,True,A,Cherbourg,yes,True\n",
            "648,0,3,male,,0,0,7.55,S,Third,man,True,,Southampton,no,True\n",
            "649,1,3,female,23.0,0,0,7.55,S,Third,woman,False,,Southampton,yes,True\n",
            "650,0,3,male,,0,0,7.8958,S,Third,man,True,,Southampton,no,True\n",
            "651,1,2,female,18.0,0,1,23.0,S,Second,woman,False,,Southampton,yes,False\n",
            "652,0,3,male,21.0,0,0,8.4333,S,Third,man,True,,Southampton,no,True\n",
            "653,1,3,female,,0,0,7.8292,Q,Third,woman,False,,Queenstown,yes,True\n",
            "654,0,3,female,18.0,0,0,6.75,Q,Third,woman,False,,Queenstown,no,True\n",
            "655,0,2,male,24.0,2,0,73.5,S,Second,man,True,,Southampton,no,False\n",
            "656,0,3,male,,0,0,7.8958,S,Third,man,True,,Southampton,no,True\n",
            "657,0,3,female,32.0,1,1,15.5,Q,Third,woman,False,,Queenstown,no,False\n",
            "658,0,2,male,23.0,0,0,13.0,S,Second,man,True,,Southampton,no,True\n",
            "659,0,1,male,58.0,0,2,113.275,C,First,man,True,D,Cherbourg,no,False\n",
            "660,1,1,male,50.0,2,0,133.65,S,First,man,True,,Southampton,yes,False\n",
            "661,0,3,male,40.0,0,0,7.225,C,Third,man,True,,Cherbourg,no,True\n",
            "662,0,1,male,47.0,0,0,25.5875,S,First,man,True,E,Southampton,no,True\n",
            "663,0,3,male,36.0,0,0,7.4958,S,Third,man,True,,Southampton,no,True\n",
            "664,1,3,male,20.0,1,0,7.925,S,Third,man,True,,Southampton,yes,False\n",
            "665,0,2,male,32.0,2,0,73.5,S,Second,man,True,,Southampton,no,False\n",
            "666,0,2,male,25.0,0,0,13.0,S,Second,man,True,,Southampton,no,True\n",
            "667,0,3,male,,0,0,7.775,S,Third,man,True,,Southampton,no,True\n",
            "668,0,3,male,43.0,0,0,8.05,S,Third,man,True,,Southampton,no,True\n",
            "669,1,1,female,,1,0,52.0,S,First,woman,False,C,Southampton,yes,False\n",
            "670,1,2,female,40.0,1,1,39.0,S,Second,woman,False,,Southampton,yes,False\n",
            "671,0,1,male,31.0,1,0,52.0,S,First,man,True,B,Southampton,no,False\n",
            "672,0,2,male,70.0,0,0,10.5,S,Second,man,True,,Southampton,no,True\n",
            "673,1,2,male,31.0,0,0,13.0,S,Second,man,True,,Southampton,yes,True\n",
            "674,0,2,male,,0,0,0.0,S,Second,man,True,,Southampton,no,True\n",
            "675,0,3,male,18.0,0,0,7.775,S,Third,man,True,,Southampton,no,True\n",
            "676,0,3,male,24.5,0,0,8.05,S,Third,man,True,,Southampton,no,True\n",
            "677,1,3,female,18.0,0,0,9.8417,S,Third,woman,False,,Southampton,yes,True\n",
            "678,0,3,female,43.0,1,6,46.9,S,Third,woman,False,,Southampton,no,False\n",
            "679,1,1,male,36.0,0,1,512.3292,C,First,man,True,B,Cherbourg,yes,False\n",
            "680,0,3,female,,0,0,8.1375,Q,Third,woman,False,,Queenstown,no,True\n",
            "681,1,1,male,27.0,0,0,76.7292,C,First,man,True,D,Cherbourg,yes,True\n",
            "682,0,3,male,20.0,0,0,9.225,S,Third,man,True,,Southampton,no,True\n",
            "683,0,3,male,14.0,5,2,46.9,S,Third,child,False,,Southampton,no,False\n",
            "684,0,2,male,60.0,1,1,39.0,S,Second,man,True,,Southampton,no,False\n",
            "685,0,2,male,25.0,1,2,41.5792,C,Second,man,True,,Cherbourg,no,False\n",
            "686,0,3,male,14.0,4,1,39.6875,S,Third,child,False,,Southampton,no,False\n",
            "687,0,3,male,19.0,0,0,10.1708,S,Third,man,True,,Southampton,no,True\n",
            "688,0,3,male,18.0,0,0,7.7958,S,Third,man,True,,Southampton,no,True\n",
            "689,1,1,female,15.0,0,1,211.3375,S,First,child,False,B,Southampton,yes,False\n",
            "690,1,1,male,31.0,1,0,57.0,S,First,man,True,B,Southampton,yes,False\n",
            "691,1,3,female,4.0,0,1,13.4167,C,Third,child,False,,Cherbourg,yes,False\n",
            "692,1,3,male,,0,0,56.4958,S,Third,man,True,,Southampton,yes,True\n",
            "693,0,3,male,25.0,0,0,7.225,C,Third,man,True,,Cherbourg,no,True\n",
            "694,0,1,male,60.0,0,0,26.55,S,First,man,True,,Southampton,no,True\n",
            "695,0,2,male,52.0,0,0,13.5,S,Second,man,True,,Southampton,no,True\n",
            "696,0,3,male,44.0,0,0,8.05,S,Third,man,True,,Southampton,no,True\n",
            "697,1,3,female,,0,0,7.7333,Q,Third,woman,False,,Queenstown,yes,True\n",
            "698,0,1,male,49.0,1,1,110.8833,C,First,man,True,C,Cherbourg,no,False\n",
            "699,0,3,male,42.0,0,0,7.65,S,Third,man,True,F,Southampton,no,True\n",
            "700,1,1,female,18.0,1,0,227.525,C,First,woman,False,C,Cherbourg,yes,False\n",
            "701,1,1,male,35.0,0,0,26.2875,S,First,man,True,E,Southampton,yes,True\n",
            "702,0,3,female,18.0,0,1,14.4542,C,Third,woman,False,,Cherbourg,no,False\n",
            "703,0,3,male,25.0,0,0,7.7417,Q,Third,man,True,,Queenstown,no,True\n",
            "704,0,3,male,26.0,1,0,7.8542,S,Third,man,True,,Southampton,no,False\n",
            "705,0,2,male,39.0,0,0,26.0,S,Second,man,True,,Southampton,no,True\n",
            "706,1,2,female,45.0,0,0,13.5,S,Second,woman,False,,Southampton,yes,True\n",
            "707,1,1,male,42.0,0,0,26.2875,S,First,man,True,E,Southampton,yes,True\n",
            "708,1,1,female,22.0,0,0,151.55,S,First,woman,False,,Southampton,yes,True\n",
            "709,1,3,male,,1,1,15.2458,C,Third,man,True,,Cherbourg,yes,False\n",
            "710,1,1,female,24.0,0,0,49.5042,C,First,woman,False,C,Cherbourg,yes,True\n",
            "711,0,1,male,,0,0,26.55,S,First,man,True,C,Southampton,no,True\n",
            "712,1,1,male,48.0,1,0,52.0,S,First,man,True,C,Southampton,yes,False\n",
            "713,0,3,male,29.0,0,0,9.4833,S,Third,man,True,,Southampton,no,True\n",
            "714,0,2,male,52.0,0,0,13.0,S,Second,man,True,,Southampton,no,True\n",
            "715,0,3,male,19.0,0,0,7.65,S,Third,man,True,F,Southampton,no,True\n",
            "716,1,1,female,38.0,0,0,227.525,C,First,woman,False,C,Cherbourg,yes,True\n",
            "717,1,2,female,27.0,0,0,10.5,S,Second,woman,False,E,Southampton,yes,True\n",
            "718,0,3,male,,0,0,15.5,Q,Third,man,True,,Queenstown,no,True\n",
            "719,0,3,male,33.0,0,0,7.775,S,Third,man,True,,Southampton,no,True\n",
            "720,1,2,female,6.0,0,1,33.0,S,Second,child,False,,Southampton,yes,False\n",
            "721,0,3,male,17.0,1,0,7.0542,S,Third,man,True,,Southampton,no,False\n",
            "722,0,2,male,34.0,0,0,13.0,S,Second,man,True,,Southampton,no,True\n",
            "723,0,2,male,50.0,0,0,13.0,S,Second,man,True,,Southampton,no,True\n",
            "724,1,1,male,27.0,1,0,53.1,S,First,man,True,E,Southampton,yes,False\n",
            "725,0,3,male,20.0,0,0,8.6625,S,Third,man,True,,Southampton,no,True\n",
            "726,1,2,female,30.0,3,0,21.0,S,Second,woman,False,,Southampton,yes,False\n",
            "727,1,3,female,,0,0,7.7375,Q,Third,woman,False,,Queenstown,yes,True\n",
            "728,0,2,male,25.0,1,0,26.0,S,Second,man,True,,Southampton,no,False\n",
            "729,0,3,female,25.0,1,0,7.925,S,Third,woman,False,,Southampton,no,False\n",
            "730,1,1,female,29.0,0,0,211.3375,S,First,woman,False,B,Southampton,yes,True\n",
            "731,0,3,male,11.0,0,0,18.7875,C,Third,child,False,,Cherbourg,no,True\n",
            "732,0,2,male,,0,0,0.0,S,Second,man,True,,Southampton,no,True\n",
            "733,0,2,male,23.0,0,0,13.0,S,Second,man,True,,Southampton,no,True\n",
            "734,0,2,male,23.0,0,0,13.0,S,Second,man,True,,Southampton,no,True\n",
            "735,0,3,male,28.5,0,0,16.1,S,Third,man,True,,Southampton,no,True\n",
            "736,0,3,female,48.0,1,3,34.375,S,Third,woman,False,,Southampton,no,False\n",
            "737,1,1,male,35.0,0,0,512.3292,C,First,man,True,B,Cherbourg,yes,True\n",
            "738,0,3,male,,0,0,7.8958,S,Third,man,True,,Southampton,no,True\n",
            "739,0,3,male,,0,0,7.8958,S,Third,man,True,,Southampton,no,True\n",
            "740,1,1,male,,0,0,30.0,S,First,man,True,D,Southampton,yes,True\n",
            "741,0,1,male,36.0,1,0,78.85,S,First,man,True,C,Southampton,no,False\n",
            "742,1,1,female,21.0,2,2,262.375,C,First,woman,False,B,Cherbourg,yes,False\n",
            "743,0,3,male,24.0,1,0,16.1,S,Third,man,True,,Southampton,no,False\n",
            "744,1,3,male,31.0,0,0,7.925,S,Third,man,True,,Southampton,yes,True\n",
            "745,0,1,male,70.0,1,1,71.0,S,First,man,True,B,Southampton,no,False\n",
            "746,0,3,male,16.0,1,1,20.25,S,Third,man,True,,Southampton,no,False\n",
            "747,1,2,female,30.0,0,0,13.0,S,Second,woman,False,,Southampton,yes,True\n",
            "748,0,1,male,19.0,1,0,53.1,S,First,man,True,D,Southampton,no,False\n",
            "749,0,3,male,31.0,0,0,7.75,Q,Third,man,True,,Queenstown,no,True\n",
            "750,1,2,female,4.0,1,1,23.0,S,Second,child,False,,Southampton,yes,False\n",
            "751,1,3,male,6.0,0,1,12.475,S,Third,child,False,E,Southampton,yes,False\n",
            "752,0,3,male,33.0,0,0,9.5,S,Third,man,True,,Southampton,no,True\n",
            "753,0,3,male,23.0,0,0,7.8958,S,Third,man,True,,Southampton,no,True\n",
            "754,1,2,female,48.0,1,2,65.0,S,Second,woman,False,,Southampton,yes,False\n",
            "755,1,2,male,0.67,1,1,14.5,S,Second,child,False,,Southampton,yes,False\n",
            "756,0,3,male,28.0,0,0,7.7958,S,Third,man,True,,Southampton,no,True\n",
            "757,0,2,male,18.0,0,0,11.5,S,Second,man,True,,Southampton,no,True\n",
            "758,0,3,male,34.0,0,0,8.05,S,Third,man,True,,Southampton,no,True\n",
            "759,1,1,female,33.0,0,0,86.5,S,First,woman,False,B,Southampton,yes,True\n",
            "760,0,3,male,,0,0,14.5,S,Third,man,True,,Southampton,no,True\n",
            "761,0,3,male,41.0,0,0,7.125,S,Third,man,True,,Southampton,no,True\n",
            "762,1,3,male,20.0,0,0,7.2292,C,Third,man,True,,Cherbourg,yes,True\n",
            "763,1,1,female,36.0,1,2,120.0,S,First,woman,False,B,Southampton,yes,False\n",
            "764,0,3,male,16.0,0,0,7.775,S,Third,man,True,,Southampton,no,True\n",
            "765,1,1,female,51.0,1,0,77.9583,S,First,woman,False,D,Southampton,yes,False\n",
            "766,0,1,male,,0,0,39.6,C,First,man,True,,Cherbourg,no,True\n",
            "767,0,3,female,30.5,0,0,7.75,Q,Third,woman,False,,Queenstown,no,True\n",
            "768,0,3,male,,1,0,24.15,Q,Third,man,True,,Queenstown,no,False\n",
            "769,0,3,male,32.0,0,0,8.3625,S,Third,man,True,,Southampton,no,True\n",
            "770,0,3,male,24.0,0,0,9.5,S,Third,man,True,,Southampton,no,True\n",
            "771,0,3,male,48.0,0,0,7.8542,S,Third,man,True,,Southampton,no,True\n",
            "772,0,2,female,57.0,0,0,10.5,S,Second,woman,False,E,Southampton,no,True\n",
            "773,0,3,male,,0,0,7.225,C,Third,man,True,,Cherbourg,no,True\n",
            "774,1,2,female,54.0,1,3,23.0,S,Second,woman,False,,Southampton,yes,False\n",
            "775,0,3,male,18.0,0,0,7.75,S,Third,man,True,,Southampton,no,True\n",
            "776,0,3,male,,0,0,7.75,Q,Third,man,True,F,Queenstown,no,True\n",
            "777,1,3,female,5.0,0,0,12.475,S,Third,child,False,,Southampton,yes,True\n",
            "778,0,3,male,,0,0,7.7375,Q,Third,man,True,,Queenstown,no,True\n",
            "779,1,1,female,43.0,0,1,211.3375,S,First,woman,False,B,Southampton,yes,False\n",
            "780,1,3,female,13.0,0,0,7.2292,C,Third,child,False,,Cherbourg,yes,True\n",
            "781,1,1,female,17.0,1,0,57.0,S,First,woman,False,B,Southampton,yes,False\n",
            "782,0,1,male,29.0,0,0,30.0,S,First,man,True,D,Southampton,no,True\n",
            "783,0,3,male,,1,2,23.45,S,Third,man,True,,Southampton,no,False\n",
            "784,0,3,male,25.0,0,0,7.05,S,Third,man,True,,Southampton,no,True\n",
            "785,0,3,male,25.0,0,0,7.25,S,Third,man,True,,Southampton,no,True\n",
            "786,1,3,female,18.0,0,0,7.4958,S,Third,woman,False,,Southampton,yes,True\n",
            "787,0,3,male,8.0,4,1,29.125,Q,Third,child,False,,Queenstown,no,False\n",
            "788,1,3,male,1.0,1,2,20.575,S,Third,child,False,,Southampton,yes,False\n",
            "789,0,1,male,46.0,0,0,79.2,C,First,man,True,B,Cherbourg,no,True\n",
            "790,0,3,male,,0,0,7.75,Q,Third,man,True,,Queenstown,no,True\n",
            "791,0,2,male,16.0,0,0,26.0,S,Second,man,True,,Southampton,no,True\n",
            "792,0,3,female,,8,2,69.55,S,Third,woman,False,,Southampton,no,False\n",
            "793,0,1,male,,0,0,30.6958,C,First,man,True,,Cherbourg,no,True\n",
            "794,0,3,male,25.0,0,0,7.8958,S,Third,man,True,,Southampton,no,True\n",
            "795,0,2,male,39.0,0,0,13.0,S,Second,man,True,,Southampton,no,True\n",
            "796,1,1,female,49.0,0,0,25.9292,S,First,woman,False,D,Southampton,yes,True\n",
            "797,1,3,female,31.0,0,0,8.6833,S,Third,woman,False,,Southampton,yes,True\n",
            "798,0,3,male,30.0,0,0,7.2292,C,Third,man,True,,Cherbourg,no,True\n",
            "799,0,3,female,30.0,1,1,24.15,S,Third,woman,False,,Southampton,no,False\n",
            "800,0,2,male,34.0,0,0,13.0,S,Second,man,True,,Southampton,no,True\n",
            "801,1,2,female,31.0,1,1,26.25,S,Second,woman,False,,Southampton,yes,False\n",
            "802,1,1,male,11.0,1,2,120.0,S,First,child,False,B,Southampton,yes,False\n",
            "803,1,3,male,0.42,0,1,8.5167,C,Third,child,False,,Cherbourg,yes,False\n",
            "804,1,3,male,27.0,0,0,6.975,S,Third,man,True,,Southampton,yes,True\n",
            "805,0,3,male,31.0,0,0,7.775,S,Third,man,True,,Southampton,no,True\n",
            "806,0,1,male,39.0,0,0,0.0,S,First,man,True,A,Southampton,no,True\n",
            "807,0,3,female,18.0,0,0,7.775,S,Third,woman,False,,Southampton,no,True\n",
            "808,0,2,male,39.0,0,0,13.0,S,Second,man,True,,Southampton,no,True\n",
            "809,1,1,female,33.0,1,0,53.1,S,First,woman,False,E,Southampton,yes,False\n",
            "810,0,3,male,26.0,0,0,7.8875,S,Third,man,True,,Southampton,no,True\n",
            "811,0,3,male,39.0,0,0,24.15,S,Third,man,True,,Southampton,no,True\n",
            "812,0,2,male,35.0,0,0,10.5,S,Second,man,True,,Southampton,no,True\n",
            "813,0,3,female,6.0,4,2,31.275,S,Third,child,False,,Southampton,no,False\n",
            "814,0,3,male,30.5,0,0,8.05,S,Third,man,True,,Southampton,no,True\n",
            "815,0,1,male,,0,0,0.0,S,First,man,True,B,Southampton,no,True\n",
            "816,0,3,female,23.0,0,0,7.925,S,Third,woman,False,,Southampton,no,True\n",
            "817,0,2,male,31.0,1,1,37.0042,C,Second,man,True,,Cherbourg,no,False\n",
            "818,0,3,male,43.0,0,0,6.45,S,Third,man,True,,Southampton,no,True\n",
            "819,0,3,male,10.0,3,2,27.9,S,Third,child,False,,Southampton,no,False\n",
            "820,1,1,female,52.0,1,1,93.5,S,First,woman,False,B,Southampton,yes,False\n",
            "821,1,3,male,27.0,0,0,8.6625,S,Third,man,True,,Southampton,yes,True\n",
            "822,0,1,male,38.0,0,0,0.0,S,First,man,True,,Southampton,no,True\n",
            "823,1,3,female,27.0,0,1,12.475,S,Third,woman,False,E,Southampton,yes,False\n",
            "824,0,3,male,2.0,4,1,39.6875,S,Third,child,False,,Southampton,no,False\n",
            "825,0,3,male,,0,0,6.95,Q,Third,man,True,,Queenstown,no,True\n",
            "826,0,3,male,,0,0,56.4958,S,Third,man,True,,Southampton,no,True\n",
            "827,1,2,male,1.0,0,2,37.0042,C,Second,child,False,,Cherbourg,yes,False\n",
            "828,1,3,male,,0,0,7.75,Q,Third,man,True,,Queenstown,yes,True\n",
            "829,1,1,female,62.0,0,0,80.0,,First,woman,False,B,,yes,True\n",
            "830,1,3,female,15.0,1,0,14.4542,C,Third,child,False,,Cherbourg,yes,False\n",
            "831,1,2,male,0.83,1,1,18.75,S,Second,child,False,,Southampton,yes,False\n",
            "832,0,3,male,,0,0,7.2292,C,Third,man,True,,Cherbourg,no,True\n",
            "833,0,3,male,23.0,0,0,7.8542,S,Third,man,True,,Southampton,no,True\n",
            "834,0,3,male,18.0,0,0,8.3,S,Third,man,True,,Southampton,no,True\n",
            "835,1,1,female,39.0,1,1,83.1583,C,First,woman,False,E,Cherbourg,yes,False\n",
            "836,0,3,male,21.0,0,0,8.6625,S,Third,man,True,,Southampton,no,True\n",
            "837,0,3,male,,0,0,8.05,S,Third,man,True,,Southampton,no,True\n",
            "838,1,3,male,32.0,0,0,56.4958,S,Third,man,True,,Southampton,yes,True\n",
            "839,1,1,male,,0,0,29.7,C,First,man,True,C,Cherbourg,yes,True\n",
            "840,0,3,male,20.0,0,0,7.925,S,Third,man,True,,Southampton,no,True\n",
            "841,0,2,male,16.0,0,0,10.5,S,Second,man,True,,Southampton,no,True\n",
            "842,1,1,female,30.0,0,0,31.0,C,First,woman,False,,Cherbourg,yes,True\n",
            "843,0,3,male,34.5,0,0,6.4375,C,Third,man,True,,Cherbourg,no,True\n",
            "844,0,3,male,17.0,0,0,8.6625,S,Third,man,True,,Southampton,no,True\n",
            "845,0,3,male,42.0,0,0,7.55,S,Third,man,True,,Southampton,no,True\n",
            "846,0,3,male,,8,2,69.55,S,Third,man,True,,Southampton,no,False\n",
            "847,0,3,male,35.0,0,0,7.8958,C,Third,man,True,,Cherbourg,no,True\n",
            "848,0,2,male,28.0,0,1,33.0,S,Second,man,True,,Southampton,no,False\n",
            "849,1,1,female,,1,0,89.1042,C,First,woman,False,C,Cherbourg,yes,False\n",
            "850,0,3,male,4.0,4,2,31.275,S,Third,child,False,,Southampton,no,False\n",
            "851,0,3,male,74.0,0,0,7.775,S,Third,man,True,,Southampton,no,True\n",
            "852,0,3,female,9.0,1,1,15.2458,C,Third,child,False,,Cherbourg,no,False\n",
            "853,1,1,female,16.0,0,1,39.4,S,First,woman,False,D,Southampton,yes,False\n",
            "854,0,2,female,44.0,1,0,26.0,S,Second,woman,False,,Southampton,no,False\n",
            "855,1,3,female,18.0,0,1,9.35,S,Third,woman,False,,Southampton,yes,False\n",
            "856,1,1,female,45.0,1,1,164.8667,S,First,woman,False,,Southampton,yes,False\n",
            "857,1,1,male,51.0,0,0,26.55,S,First,man,True,E,Southampton,yes,True\n",
            "858,1,3,female,24.0,0,3,19.2583,C,Third,woman,False,,Cherbourg,yes,False\n",
            "859,0,3,male,,0,0,7.2292,C,Third,man,True,,Cherbourg,no,True\n",
            "860,0,3,male,41.0,2,0,14.1083,S,Third,man,True,,Southampton,no,False\n",
            "861,0,2,male,21.0,1,0,11.5,S,Second,man,True,,Southampton,no,False\n",
            "862,1,1,female,48.0,0,0,25.9292,S,First,woman,False,D,Southampton,yes,True\n",
            "863,0,3,female,,8,2,69.55,S,Third,woman,False,,Southampton,no,False\n",
            "864,0,2,male,24.0,0,0,13.0,S,Second,man,True,,Southampton,no,True\n",
            "865,1,2,female,42.0,0,0,13.0,S,Second,woman,False,,Southampton,yes,True\n",
            "866,1,2,female,27.0,1,0,13.8583,C,Second,woman,False,,Cherbourg,yes,False\n",
            "867,0,1,male,31.0,0,0,50.4958,S,First,man,True,A,Southampton,no,True\n",
            "868,0,3,male,,0,0,9.5,S,Third,man,True,,Southampton,no,True\n",
            "869,1,3,male,4.0,1,1,11.1333,S,Third,child,False,,Southampton,yes,False\n",
            "870,0,3,male,26.0,0,0,7.8958,S,Third,man,True,,Southampton,no,True\n",
            "871,1,1,female,47.0,1,1,52.5542,S,First,woman,False,D,Southampton,yes,False\n",
            "872,0,1,male,33.0,0,0,5.0,S,First,man,True,B,Southampton,no,True\n",
            "873,0,3,male,47.0,0,0,9.0,S,Third,man,True,,Southampton,no,True\n",
            "874,1,2,female,28.0,1,0,24.0,C,Second,woman,False,,Cherbourg,yes,False\n",
            "875,1,3,female,15.0,0,0,7.225,C,Third,child,False,,Cherbourg,yes,True\n",
            "876,0,3,male,20.0,0,0,9.8458,S,Third,man,True,,Southampton,no,True\n",
            "877,0,3,male,19.0,0,0,7.8958,S,Third,man,True,,Southampton,no,True\n",
            "878,0,3,male,,0,0,7.8958,S,Third,man,True,,Southampton,no,True\n",
            "879,1,1,female,56.0,0,1,83.1583,C,First,woman,False,C,Cherbourg,yes,False\n",
            "880,1,2,female,25.0,0,1,26.0,S,Second,woman,False,,Southampton,yes,False\n",
            "881,0,3,male,33.0,0,0,7.8958,S,Third,man,True,,Southampton,no,True\n",
            "882,0,3,female,22.0,0,0,10.5167,S,Third,woman,False,,Southampton,no,True\n",
            "883,0,2,male,28.0,0,0,10.5,S,Second,man,True,,Southampton,no,True\n",
            "884,0,3,male,25.0,0,0,7.05,S,Third,man,True,,Southampton,no,True\n",
            "885,0,3,female,39.0,0,5,29.125,Q,Third,woman,False,,Queenstown,no,False\n",
            "886,0,2,male,27.0,0,0,13.0,S,Second,man,True,,Southampton,no,True\n",
            "887,1,1,female,19.0,0,0,30.0,S,First,woman,False,B,Southampton,yes,True\n",
            "888,0,3,female,,1,2,23.45,S,Third,woman,False,,Southampton,no,False\n",
            "889,1,1,male,26.0,0,0,30.0,C,First,man,True,C,Cherbourg,yes,True\n",
            "890,0,3,male,32.0,0,0,7.75,Q,Third,man,True,,Queenstown,no,True\n"
          ]
        }
      ]
    },
    {
      "cell_type": "code",
      "source": [],
      "metadata": {
        "id": "cNaI2MwAtUwu"
      },
      "execution_count": null,
      "outputs": []
    },
    {
      "cell_type": "code",
      "source": [
        "def read_file_line_by_line(file_path):\n",
        "    with open(file_path, 'r') as file:\n",
        "        for line in file:\n",
        "            yield line.strip()\n",
        "\n",
        "# Example usage:\n",
        "file_path = 'example.txt'\n",
        "for line in read_file_line_by_line(file_path):\n",
        "    print(line)\n"
      ],
      "metadata": {
        "id": "PhfPagrvtUzs"
      },
      "execution_count": null,
      "outputs": []
    },
    {
      "cell_type": "code",
      "source": [
        "#8. Use a lambda function in Python to sort a list of tuples based on the second element of each tuple."
      ],
      "metadata": {
        "id": "qNu_GndUbEHZ"
      },
      "execution_count": null,
      "outputs": []
    },
    {
      "cell_type": "code",
      "source": [
        "lis=[(1,2,3),(3,3,1),(4,5,6),(2,1,1)]\n",
        "say=lambda x:sorted(x,key=lambda x:x[1])"
      ],
      "metadata": {
        "id": "1SXpcATwgpGq"
      },
      "execution_count": null,
      "outputs": []
    },
    {
      "cell_type": "code",
      "source": [
        "say(lis)"
      ],
      "metadata": {
        "colab": {
          "base_uri": "https://localhost:8080/"
        },
        "id": "qnuAMyZvgpU3",
        "outputId": "567d89fd-219f-48aa-dad8-2d8d344fb760"
      },
      "execution_count": null,
      "outputs": [
        {
          "output_type": "execute_result",
          "data": {
            "text/plain": [
              "[(2, 1, 1), (1, 2, 3), (3, 3, 1), (4, 5, 6)]"
            ]
          },
          "metadata": {},
          "execution_count": 23
        }
      ]
    },
    {
      "cell_type": "code",
      "source": [
        "#9. Write a Python program that uses `map()` to convert a list of temperatures from Celsius to Fahrenheit."
      ],
      "metadata": {
        "id": "D3sNbT7lbEJC"
      },
      "execution_count": null,
      "outputs": []
    },
    {
      "cell_type": "code",
      "source": [
        "# ans:\n",
        "temp=lambda x:(9/5)*x+32\n",
        "lis=[35,36,37,38,39,40]"
      ],
      "metadata": {
        "id": "2btFMO6pbEN5"
      },
      "execution_count": null,
      "outputs": []
    },
    {
      "cell_type": "code",
      "source": [
        "list(map(temp,lis))"
      ],
      "metadata": {
        "colab": {
          "base_uri": "https://localhost:8080/"
        },
        "id": "xf45-4nrbqoH",
        "outputId": "acc7bc5e-ac6c-4d01-a51f-fbaab4f39761"
      },
      "execution_count": null,
      "outputs": [
        {
          "output_type": "execute_result",
          "data": {
            "text/plain": [
              "[95.0, 96.8, 98.60000000000001, 100.4, 102.2, 104.0]"
            ]
          },
          "metadata": {},
          "execution_count": 5
        }
      ]
    },
    {
      "cell_type": "code",
      "source": [
        "#10. Create a Python program that uses `filter()` to remove all the vowels from a given string."
      ],
      "metadata": {
        "id": "OpduXJORb6xQ"
      },
      "execution_count": null,
      "outputs": []
    },
    {
      "cell_type": "code",
      "source": [
        "res=lambda x:x if x.lower() not in 'aeiou' else ''\n",
        "st='my name is khan i am not a terrorist'\n",
        "''.join(list(filter(res,st)))"
      ],
      "metadata": {
        "colab": {
          "base_uri": "https://localhost:8080/",
          "height": 36
        },
        "id": "o4cIR2n6dQZA",
        "outputId": "4fd4e49d-8262-4fed-87ab-5ee1c95f0e57"
      },
      "execution_count": null,
      "outputs": [
        {
          "output_type": "execute_result",
          "data": {
            "text/plain": [
              "'my nm s khn  m nt  trrrst'"
            ],
            "application/vnd.google.colaboratory.intrinsic+json": {
              "type": "string"
            }
          },
          "metadata": {},
          "execution_count": 15
        }
      ]
    },
    {
      "cell_type": "code",
      "source": [],
      "metadata": {
        "colab": {
          "base_uri": "https://localhost:8080/"
        },
        "id": "Vo9_FO_cdfdh",
        "outputId": "83493804-549d-47bb-b734-ed8e13585698"
      },
      "execution_count": null,
      "outputs": [
        {
          "output_type": "execute_result",
          "data": {
            "text/plain": [
              "[]"
            ]
          },
          "metadata": {},
          "execution_count": 9
        }
      ]
    },
    {
      "cell_type": "code",
      "source": [],
      "metadata": {
        "id": "wWToL9zDdrCo"
      },
      "execution_count": null,
      "outputs": []
    }
  ]
}